{
  "cells": [
    {
      "cell_type": "markdown",
      "metadata": {
        "id": "TpO_YrYzkBDd"
      },
      "source": [
        "**What is Pandas?**\n",
        "\n",
        "Pandas is an open-source data analysis and manipulation library for Python. It provides data structures and functions needed to efficiently analyze, clean, and manipulate structured data. The primary data structures in Pandas are `Series` (one-dimensional) and `DataFrame` (two-dimensional), which allow easy handling of labeled and indexed data.\n",
        "\n",
        "---\n",
        "\n",
        "**Importance of Pandas in Data Science**\n",
        "\n",
        "Pandas plays a crucial role in Data Science due to the following reasons:\n",
        "1. **Data Handling:** Provides easy-to-use data structures like `DataFrame` for organizing data.\n",
        "2. **Data Cleaning:** Offers functions for handling missing values, duplicates, and data transformations.\n",
        "3. **Data Manipulation:** Enables efficient filtering, grouping, and aggregation of large datasets.\n",
        "4. **Integration:** Works well with other libraries such as NumPy, Matplotlib, and Scikit-Learn.\n",
        "5. **Performance:** Built on NumPy, allowing fast operations on large datasets.\n",
        "\n",
        "---\n",
        "\n",
        "**Difference between Pandas and NumPy**\n",
        "\n",
        "| Feature | Pandas | NumPy |\n",
        "|---------|--------|-------|\n",
        "| Data Structure | Uses `Series` and `DataFrame` | Uses multi-dimensional arrays (`ndarray`) |\n",
        "| Data Handling | Best for labeled/tabular data | Best for numerical computations |\n",
        "| Indexing | Supports labeled indexing | Only supports positional indexing |\n",
        "| Functionality | Data manipulation, cleaning, and analysis | High-performance mathematical and statistical operations |\n",
        "| Usage | Primarily used in data science and analytics | Mainly used for numerical computing and scientific applications |\n",
        "\n",
        "---\n",
        "\n",
        "**Installing Pandas**\n",
        "\n",
        "To install Pandas, use the following command:\n",
        "```bash\n",
        "pip install pandas\n",
        "```\n",
        "\n",
        "This command will download and install the Pandas library along with its dependencies.\n",
        "\n",
        "---\n",
        "\n",
        "**Importing Pandas**\n",
        "\n",
        "Once installed, you can import Pandas in a Python script or Jupyter Notebook using:\n",
        "```python\n",
        "import pandas as pd\n",
        "```\n",
        "The alias `pd` is a commonly used shorthand that makes it easier to use Pandas functions and objects.\n",
        "\n",
        "---\n",
        "\n",
        "**Key Features of Pandas**\n",
        "\n",
        "1. **Efficient Handling of Structured Data**\n",
        "   - Pandas provides `DataFrame` and `Series` objects that allow for easy manipulation of structured data.\n",
        "   - Supports multiple file formats like CSV, Excel, SQL, and JSON.\n",
        "   - Enables fast indexing and retrieval of data.\n",
        "\n",
        "2. **Data Cleaning and Transformation**\n",
        "   - Handles missing values using functions like `fillna()`, `dropna()`.\n",
        "   - Allows transformation of data types, renaming columns, and removing duplicates.\n",
        "   - Supports advanced operations like applying custom functions to modify data.\n",
        "\n",
        "3. **Merging, Joining, and Grouping**\n",
        "   - Supports merging and joining of datasets using `merge()` and `join()`.\n",
        "   - Enables grouping and aggregation of data using `groupby()`.\n",
        "   - Provides functionalities for pivot tables and reshaping data.\n",
        "\n",
        "4. **Time Series Functionality**\n",
        "   - Handles date and time-based data efficiently.\n",
        "   - Provides functionalities for resampling, shifting, and time-based indexing.\n",
        "   - Supports operations on datetime data using `to_datetime()` and `Timedelta`.\n",
        "\n",
        "5. **Data Visualization Integration**\n",
        "   - Pandas integrates with visualization libraries like Matplotlib and Seaborn.\n",
        "   - Provides built-in plotting methods using `.plot()`.\n",
        "   - Enables quick and insightful graphical representations of data.\n",
        "\n",
        "---\n",
        "\n",
        "\n",
        "\n"
      ]
    },
    {
      "cell_type": "markdown",
      "metadata": {
        "id": "jMF0jYzBnGUW"
      },
      "source": [
        "Series (1D)\n",
        "\n",
        "A Pandas Series is a one-dimensional labeled array capable of holding any data type (integers, strings, floating point numbers, etc.).\n",
        "\n",
        "Creating a Series:"
      ]
    },
    {
      "cell_type": "markdown",
      "metadata": {
        "id": "LyLf43QzlRKu"
      },
      "source": [
        "### **Example: Creating a Pandas Series**"
      ]
    },
    {
      "cell_type": "code",
      "execution_count": 1,
      "metadata": {
        "colab": {
          "base_uri": "https://localhost:8080/"
        },
        "id": "Dw53RnqRjNX-",
        "outputId": "4146a846-4aab-4f61-a072-512c5c6e298c"
      },
      "outputs": [
        {
          "name": "stdout",
          "output_type": "stream",
          "text": [
            "0    10\n",
            "1    20\n",
            "2    30\n",
            "3    40\n",
            "dtype: int64\n"
          ]
        }
      ],
      "source": [
        "import numpy as np\n",
        "import pandas as pd\n",
        "\n",
        "data = [10, 20, 30, 40]\n",
        "series = pd.Series(data)\n",
        "print(series)"
      ]
    },
    {
      "cell_type": "code",
      "execution_count": 1,
      "metadata": {
        "colab": {
          "base_uri": "https://localhost:8080/"
        },
        "id": "-jk7bRColoZ1",
        "outputId": "a5c38a78-02b8-4728-c2d8-5cee2d985fd6"
      },
      "outputs": [
        {
          "name": "stdout",
          "output_type": "stream",
          "text": [
            "a    1\n",
            "b    3\n",
            "c    5\n",
            "d    7\n",
            "dtype: int64\n",
            "x    100\n",
            "y    200\n",
            "z    300\n",
            "dtype: int64\n",
            "a    5\n",
            "b    5\n",
            "c    5\n",
            "dtype: int64\n",
            "[10.5 20.5 30.5]\n",
            "0    10.5\n",
            "1    20.5\n",
            "2    30.5\n",
            "dtype: float64\n"
          ]
        }
      ],
      "source": [
        "\n",
        "import pandas as pd\n",
        "\n",
        "# Example 2: Series with custom index\n",
        "data2 = [1, 3, 5, 7]\n",
        "index2 = ['a', 'b', 'c', 'd']\n",
        "series2 = pd.Series(data2, index=index2)\n",
        "print(series2)\n",
        "\n",
        "# Example 3: Series from a dictionary\n",
        "data3 = {'x': 100, 'y': 200, 'z': 300}\n",
        "series3 = pd.Series(data3)\n",
        "print(series3)\n",
        "\n",
        "# Example 4: Series with a scalar value\n",
        "series4 = pd.Series(5, index=['a', 'b', 'c'])  # Value 5 repeated three times with index 'a', 'b', 'c'\n",
        "print(series4)\n",
        "\n",
        "# Example 5: Series from a NumPy array\n",
        "import numpy as np\n",
        "data5 = np.array([10.5, 20.5, 30.5])\n",
        "print(data5)\n",
        "series5 = pd.Series(data5)\n",
        "print(series5)\n"
      ]
    },
    {
      "cell_type": "code",
      "execution_count": 5,
      "metadata": {
        "colab": {
          "base_uri": "https://localhost:8080/"
        },
        "id": "kSaYjg6AnTRu",
        "outputId": "d5ee6a21-55ee-4d79-e717-f5afa504d551"
      },
      "outputs": [
        {
          "name": "stdout",
          "output_type": "stream",
          "text": [
            "0    10\n",
            "1    20\n",
            "2    30\n",
            "3    40\n",
            "dtype: int64\n",
            "a    100\n",
            "b    200\n",
            "c    300\n",
            "dtype: int64\n",
            "0     5\n",
            "1    10\n",
            "2    15\n",
            "3    20\n",
            "dtype: int64\n"
          ]
        }
      ],
      "source": [
        "import pandas as pd\n",
        "import numpy as np\n",
        "\n",
        "# From a list\n",
        "data = [10, 20, 30, 40]\n",
        "series1 = pd.Series(data)\n",
        "print(series1)\n",
        "\n",
        "# From a dictionary\n",
        "data_dict = {'a': 100, 'b': 200, 'c': 300}\n",
        "series2 = pd.Series(data_dict)\n",
        "print(series2)\n",
        "\n",
        "# From a NumPy array\n",
        "array = np.array([5, 10, 15, 20])\n",
        "series3 = pd.Series(array)\n",
        "print(series3)\n"
      ]
    },
    {
      "cell_type": "code",
      "execution_count": null,
      "metadata": {
        "colab": {
          "base_uri": "https://localhost:8080/"
        },
        "id": "soQBBF5jnhF1",
        "outputId": "8027d931-7989-45e2-c1ae-28b7bdc3063e"
      },
      "outputs": [
        {
          "name": "stdout",
          "output_type": "stream",
          "text": [
            "10\n",
            "200\n"
          ]
        }
      ],
      "source": [
        "print(series1[0])  # Accessing by index\n",
        "print(series2['b'])  # Accessing by label"
      ]
    },
    {
      "cell_type": "code",
      "execution_count": null,
      "metadata": {
        "colab": {
          "base_uri": "https://localhost:8080/"
        },
        "id": "negCtrEpnnX9",
        "outputId": "bbb65a86-15c3-410e-cd8f-b4af58f17b5c"
      },
      "outputs": [
        {
          "name": "stdout",
          "output_type": "stream",
          "text": [
            "0    20\n",
            "1    30\n",
            "2    40\n",
            "3    50\n",
            "dtype: int64\n",
            "35.0\n"
          ]
        }
      ],
      "source": [
        "series1 += 10\n",
        "print(series1)  # Element-wise addition\n",
        "print(series1.mean())  # Statistical operations"
      ]
    },
    {
      "cell_type": "code",
      "execution_count": null,
      "metadata": {
        "colab": {
          "base_uri": "https://localhost:8080/"
        },
        "id": "cRbU_spxnqDW",
        "outputId": "0ba1a46d-b102-430d-ad40-c508a82e96d3"
      },
      "outputs": [
        {
          "name": "stdout",
          "output_type": "stream",
          "text": [
            "1    30\n",
            "2    40\n",
            "3    50\n",
            "dtype: int64\n"
          ]
        }
      ],
      "source": [
        "data = [10, 20, 30, 40]\n",
        "print(series1[series1 > 20])"
      ]
    },
    {
      "cell_type": "markdown",
      "metadata": {
        "id": "rIOjJdjenz0H"
      },
      "source": [
        "A DataFrame is a two-dimensional labeled data structure with columns of potentially different types, similar to a spreadsheet or SQL table.\n",
        "\n",
        "Creating a DataFrame:"
      ]
    },
    {
      "cell_type": "markdown",
      "metadata": {
        "id": "z9acRdmFlUNU"
      },
      "source": [
        "### **Example: Creating a Pandas DataFrame**\n"
      ]
    },
    {
      "cell_type": "code",
      "execution_count": 14,
      "metadata": {
        "colab": {
          "base_uri": "https://localhost:8080/"
        },
        "id": "9JvzGC0xliaF",
        "outputId": "8c9d201e-f66a-4b39-e6fa-e28b8f569733"
      },
      "outputs": [
        {
          "name": "stdout",
          "output_type": "stream",
          "text": [
            "      Name  Age         City\n",
            "0     Hero   19      Karachi\n",
            "1      Bob   30  Los Angeles\n",
            "2  Charlie   35      Chicago \n",
            "\n",
            "<class 'pandas.core.frame.DataFrame'> \n",
            "\n",
            "{'Name': ['Hero', 'Bob', 'Charlie'], 'Age': [19, 30, 35], 'City': ['Karachi', 'Los Angeles', 'Chicago']} \n",
            "\n",
            "<class 'dict'> \n",
            "\n",
            "['Hero', 'Bob', 'Charlie'] \n",
            "\n",
            "<class 'list'> \n",
            "\n"
          ]
        }
      ],
      "source": [
        "\n",
        "data = {\n",
        "    'Name': ['Hero', 'Bob', 'Charlie'],\n",
        "    'Age': [19, 30 , 35],\n",
        "    'City': ['Karachi', 'Los Angeles', 'Chicago']\n",
        "}\n",
        "df = pd.DataFrame(data)\n",
        "print(df,\"\\n\")#df\n",
        "print(type(df),\"\\n\")#dataframe\n",
        "print(data,\"\\n\")\n",
        "print(type(data),\"\\n\")#dict\n",
        "print(data['Name'],\"\\n\")\n",
        "print(type(data['Name']),\"\\n\")#list"
      ]
    },
    {
      "cell_type": "code",
      "execution_count": 32,
      "metadata": {
        "colab": {
          "base_uri": "https://localhost:8080/"
        },
        "id": "HgAI7lmOmFyn",
        "outputId": "c849da09-4124-49e6-f9e7-8dfcbd14f27c"
      },
      "outputs": [
        {
          "name": "stdout",
          "output_type": "stream",
          "text": [
            "     X    Y\n",
            "0  1.1  2.0\n",
            "1  3.2  4.0\n",
            "2  5.6  6.0 \n",
            "\n",
            "0    2.0\n",
            "1    4.0\n",
            "2    6.0\n",
            "Name: Y, dtype: float64\n"
          ]
        }
      ],
      "source": [
        "\n",
        "import pandas as pd\n",
        "import numpy as np\n",
        "# # Example 6: DataFrame from a list of lists\n",
        "# data6 = [[1, 'A'], [2, 'B'], [3, 'C']]\n",
        "# columns6 = ['Number', 'Letter']\n",
        "# df6 = pd.DataFrame(data6, columns=columns6)\n",
        "# print(\"\\n\",df6)\n",
        "\n",
        "# # Example 7: DataFrame with specific data types\n",
        "# data7 = {'col1': [1, 2, 3], 'col2': [4.5, 5.5, 6.5], 'col3': ['A', 'B', 'C']}\n",
        "# df7 = pd.DataFrame(data7, dtype=object) #Specify data type for columns.\n",
        "# print(\"\\n\",df7)\n",
        "# print(df7.dtypes)\n",
        "\n",
        "\n",
        "# # Example 8: DataFrame from a list of dictionaries\n",
        "# data8 = [{'a': 1, 'b': 2}, {'a': 3, 'b': 4}, {'a': 5, 'b': 6}]\n",
        "# df8 = pd.DataFrame(data8)\n",
        "# print(\"\\n\",df8)\n",
        "# print(data8[0])\n",
        "\n",
        "# # Example 9: DataFrame with index specified\n",
        "# data9 = {'col1': [10, 20, 30], 'col2': [40, 50, 60]}\n",
        "# index9 = ['row1', 'row2', 'row3']\n",
        "# df9 = pd.DataFrame(data9, index=index9)\n",
        "# print(\"\\n\",df9,\"\\n\",)\n",
        "\n",
        "# Example 10: DataFrame from a NumPy array\n",
        "data10 = np.array([ [1.1, 2],\n",
        "                    [3.2, 4],\n",
        "                    [5.6, 6]])\n",
        "columns10 = ['X', 'Y']\n",
        "df10 = pd.DataFrame(data10, columns=columns10)\n",
        "print(df10,\"\\n\")\n",
        "print(df10['Y'][:])\n"
      ]
    },
    {
      "cell_type": "code",
      "execution_count": 36,
      "metadata": {
        "colab": {
          "base_uri": "https://localhost:8080/"
        },
        "id": "NQIISsFhoBU_",
        "outputId": "5f3bcab4-a394-4bd1-9230-c145e4e01b96"
      },
      "outputs": [
        {
          "name": "stdout",
          "output_type": "stream",
          "text": [
            "4\n",
            "   X  Y  Z\n",
            "0  1  2  3\n",
            "1  4  5  6\n"
          ]
        }
      ],
      "source": [
        "# From a dictionary of lists\n",
        "# data = {'Name': ['Alice', 'Bob', 'Charlie'], 'Age': [25, 30, 35],'City': ['New York', 'Los Angeles', 'Chicago']}\n",
        "# df1 = pd.DataFrame(data)\n",
        "# print(df1)\n",
        "\n",
        "# From a dictionary of Series\n",
        "# df2 = pd.DataFrame({'A': pd.Series([1, 2, 3]), 'B': pd.Series([4, 5, 6])})\n",
        "# print(df2)\n",
        "\n",
        "# From a NumPy array\n",
        "array_data = np.array([[1, 2, 3], [4, 5, 6]])\n",
        "df3 = pd.DataFrame(array_data, columns=['X', 'Y', 'Z'])\n",
        "print(df3['X'][1])\n",
        "print(df3)"
      ]
    },
    {
      "cell_type": "markdown",
      "metadata": {
        "id": "rwdy4UHMoHzF"
      },
      "source": [
        "###Reading from a CSV/Excel file###"
      ]
    },
    {
      "cell_type": "code",
      "execution_count": 42,
      "metadata": {
        "colab": {
          "base_uri": "https://localhost:8080/"
        },
        "id": "_QESGhRqv0U0",
        "outputId": "f667d2ad-1e80-4783-e5f4-1ab814e3a3d3"
      },
      "outputs": [
        {
          "name": "stdout",
          "output_type": "stream",
          "text": [
            "Requirement already satisfied: openpyxl==3.1.2 in c:\\users\\zainab\\appdata\\local\\programs\\python\\python313\\lib\\site-packages (3.1.2)\n",
            "Requirement already satisfied: et-xmlfile in c:\\users\\zainab\\appdata\\local\\programs\\python\\python313\\lib\\site-packages (from openpyxl==3.1.2) (2.0.0)\n"
          ]
        }
      ],
      "source": [
        "!pip install openpyxl==3.1.2"
      ]
    },
    {
      "cell_type": "code",
      "execution_count": 54,
      "metadata": {
        "colab": {
          "base_uri": "https://localhost:8080/"
        },
        "id": "J3lvt1qNw7e-",
        "outputId": "d60a79f6-dd6d-4179-d233-6111a16c1db3"
      },
      "outputs": [
        {
          "name": "stdout",
          "output_type": "stream",
          "text": [
            "    OrderDate   Region  Manager   SalesMan          Item   Units  Unit_price  \\\n",
            "0  2018-01-06     East   Martha  Alexander    Television   95.00    1198.000   \n",
            "1  2018-01-23  Central  Hermann     Shelli  Home Theater   50.00     500.000   \n",
            "2  2018-02-09  Central  Hermann       Luis    Television   36.00    1198.000   \n",
            "3  2018-02-26  Central  Timothy      David    Cell Phone   27.00     225.000   \n",
            "4  2018-03-15     West  Timothy    Stephen    Television   56.00    1198.000   \n",
            "5  2018-04-01     East   Martha  Alexander  Home Theater   60.00     500.000   \n",
            "6  2018-04-18  Central   Martha     Steven    Television   75.00    1198.000   \n",
            "7  2018-05-05  Central  Hermann       Luis    Television   90.00    1198.000   \n",
            "8  2018-05-22     West  Douglas    Michael    Television   32.00    1198.000   \n",
            "9  2018-06-08     East   Martha  Alexander  Home Theater   60.00     500.000   \n",
            "10 2018-06-25  Central  Hermann      Sigal    Television   90.00    1198.000   \n",
            "11 2018-07-12     East   Martha      Diana  Home Theater   29.00     500.000   \n",
            "12 2018-07-29     East  Douglas      Karen  Home Theater   81.00     500.000   \n",
            "13 2018-08-15     East   Martha  Alexander    Television   35.00    1198.000   \n",
            "14 2018-09-01  Central  Douglas       John          Desk    2.00     125.000   \n",
            "15 2018-09-18     East   Martha  Alexander   Video Games   16.00      58.500   \n",
            "16 2018-10-05  Central  Hermann      Sigal  Home Theater   28.00     500.000   \n",
            "17 2018-10-22     East   Martha  Alexander    Cell Phone   64.00     225.000   \n",
            "18 2018-11-08     East  Douglas      Karen    Cell Phone   15.00     225.000   \n",
            "19 2018-11-25  Central  Hermann     Shelli   Video Games   96.00      58.500   \n",
            "20 2018-12-12  Central  Douglas       John    Television   67.00    1198.000   \n",
            "21 2018-12-29     East  Douglas      Karen   Video Games   74.00      58.500   \n",
            "22 2019-01-15  Central  Timothy      David  Home Theater   46.00     500.000   \n",
            "23 2019-02-01  Central  Douglas       John  Home Theater   87.00     500.000   \n",
            "24 2019-02-18     East   Martha  Alexander  Home Theater    4.00     500.000   \n",
            "25 2019-03-07     West  Timothy    Stephen  Home Theater    7.00     500.000   \n",
            "26 2019-03-24  Central  Hermann       Luis   Video Games   50.00      58.500   \n",
            "27 2019-04-10  Central   Martha     Steven    Television   66.00    1198.000   \n",
            "28 2019-04-27     East   Martha      Diana    Cell Phone   96.00     225.000   \n",
            "29 2019-05-14  Central  Timothy      David    Television   53.00    1198.000   \n",
            "30 2019-05-31  Central  Timothy      David  Home Theater   80.00     500.000   \n",
            "31 2019-06-17  Central  Hermann     Shelli          Desk    5.00     125.000   \n",
            "32 2019-07-04     East   Martha  Alexander   Video Games   62.00      58.500   \n",
            "33 2019-07-21  Central  Hermann      Sigal   Video Games   55.00      58.500   \n",
            "34 2019-08-07  Central  Hermann     Shelli   Video Games   42.00      58.500   \n",
            "35 2019-08-24     West  Timothy    Stephen          Desk    3.00     125.000   \n",
            "36 2019-09-10  Central  Timothy      David    Television    7.00    1198.000   \n",
            "37 2019-09-27     West  Timothy    Stephen    Cell Phone   76.00     225.000   \n",
            "38 2019-10-14     West  Douglas    Michael  Home Theater   57.00     500.000   \n",
            "39 2019-10-31  Central   Martha     Steven    Television   14.00    1198.000   \n",
            "40 2019-11-17  Central  Hermann       Luis  Home Theater   11.00     500.000   \n",
            "41 2019-12-04  Central  Hermann       Luis  Home Theater   94.00     500.000   \n",
            "42 2019-12-21  Central   Martha     Steven  Home Theater   28.00     500.000   \n",
            "43        NaT      NaN      NaN        NaN           NaN  278.00    1125.000   \n",
            "44        NaT      NaN      NaN        NaN           NaN   34.75     140.625   \n",
            "\n",
            "     Sale_amt  \n",
            "0   113810.00  \n",
            "1    25000.00  \n",
            "2    43128.00  \n",
            "3     6075.00  \n",
            "4    67088.00  \n",
            "5    30000.00  \n",
            "6    89850.00  \n",
            "7   107820.00  \n",
            "8    38336.00  \n",
            "9    30000.00  \n",
            "10  107820.00  \n",
            "11   14500.00  \n",
            "12   40500.00  \n",
            "13   41930.00  \n",
            "14     250.00  \n",
            "15     936.00  \n",
            "16   14000.00  \n",
            "17   14400.00  \n",
            "18    3375.00  \n",
            "19    5616.00  \n",
            "20   80266.00  \n",
            "21    4329.00  \n",
            "22   23000.00  \n",
            "23   43500.00  \n",
            "24    2000.00  \n",
            "25    3500.00  \n",
            "26    2925.00  \n",
            "27   79068.00  \n",
            "28   21600.00  \n",
            "29   63494.00  \n",
            "30   40000.00  \n",
            "31     625.00  \n",
            "32    3627.00  \n",
            "33    3217.50  \n",
            "34    2457.00  \n",
            "35     375.00  \n",
            "36    8386.00  \n",
            "37   17100.00  \n",
            "38   28500.00  \n",
            "39   16772.00  \n",
            "40    5500.00  \n",
            "41   47000.00  \n",
            "42   14000.00  \n",
            "43   62550.00  \n",
            "44    7818.75  \n"
          ]
        }
      ],
      "source": [
        "# from  import dri\n",
        "d = pd.read_excel('SaleData.xlsx')\n",
        "print(d)\n",
        "# drive.mount('/content/drive')"
      ]
    },
    {
      "cell_type": "code",
      "execution_count": null,
      "metadata": {
        "id": "7-ocRTaew_1t"
      },
      "outputs": [],
      "source": [
        "import numpy as np\n",
        "import openpyxl\n",
        "import pandas as pd"
      ]
    },
    {
      "cell_type": "code",
      "execution_count": 56,
      "metadata": {
        "colab": {
          "base_uri": "https://localhost:8080/",
          "height": 530
        },
        "id": "oNIdUj_SoY4F",
        "outputId": "db015bcc-6091-497e-d595-d293f8c91af3"
      },
      "outputs": [
        {
          "name": "stdout",
          "output_type": "stream",
          "text": [
            "    OrderDate   Region  Manager   SalesMan          Item   Units  Unit_price  \\\n",
            "0  2018-01-06     East   Martha  Alexander    Television   95.00    1198.000   \n",
            "1  2018-01-23  Central  Hermann     Shelli  Home Theater   50.00     500.000   \n",
            "2  2018-02-09  Central  Hermann       Luis    Television   36.00    1198.000   \n",
            "3  2018-02-26  Central  Timothy      David    Cell Phone   27.00     225.000   \n",
            "4  2018-03-15     West  Timothy    Stephen    Television   56.00    1198.000   \n",
            "5  2018-04-01     East   Martha  Alexander  Home Theater   60.00     500.000   \n",
            "6  2018-04-18  Central   Martha     Steven    Television   75.00    1198.000   \n",
            "7  2018-05-05  Central  Hermann       Luis    Television   90.00    1198.000   \n",
            "8  2018-05-22     West  Douglas    Michael    Television   32.00    1198.000   \n",
            "9  2018-06-08     East   Martha  Alexander  Home Theater   60.00     500.000   \n",
            "10 2018-06-25  Central  Hermann      Sigal    Television   90.00    1198.000   \n",
            "11 2018-07-12     East   Martha      Diana  Home Theater   29.00     500.000   \n",
            "12 2018-07-29     East  Douglas      Karen  Home Theater   81.00     500.000   \n",
            "13 2018-08-15     East   Martha  Alexander    Television   35.00    1198.000   \n",
            "14 2018-09-01  Central  Douglas       John          Desk    2.00     125.000   \n",
            "15 2018-09-18     East   Martha  Alexander   Video Games   16.00      58.500   \n",
            "16 2018-10-05  Central  Hermann      Sigal  Home Theater   28.00     500.000   \n",
            "17 2018-10-22     East   Martha  Alexander    Cell Phone   64.00     225.000   \n",
            "18 2018-11-08     East  Douglas      Karen    Cell Phone   15.00     225.000   \n",
            "19 2018-11-25  Central  Hermann     Shelli   Video Games   96.00      58.500   \n",
            "20 2018-12-12  Central  Douglas       John    Television   67.00    1198.000   \n",
            "21 2018-12-29     East  Douglas      Karen   Video Games   74.00      58.500   \n",
            "22 2019-01-15  Central  Timothy      David  Home Theater   46.00     500.000   \n",
            "23 2019-02-01  Central  Douglas       John  Home Theater   87.00     500.000   \n",
            "24 2019-02-18     East   Martha  Alexander  Home Theater    4.00     500.000   \n",
            "25 2019-03-07     West  Timothy    Stephen  Home Theater    7.00     500.000   \n",
            "26 2019-03-24  Central  Hermann       Luis   Video Games   50.00      58.500   \n",
            "27 2019-04-10  Central   Martha     Steven    Television   66.00    1198.000   \n",
            "28 2019-04-27     East   Martha      Diana    Cell Phone   96.00     225.000   \n",
            "29 2019-05-14  Central  Timothy      David    Television   53.00    1198.000   \n",
            "30 2019-05-31  Central  Timothy      David  Home Theater   80.00     500.000   \n",
            "31 2019-06-17  Central  Hermann     Shelli          Desk    5.00     125.000   \n",
            "32 2019-07-04     East   Martha  Alexander   Video Games   62.00      58.500   \n",
            "33 2019-07-21  Central  Hermann      Sigal   Video Games   55.00      58.500   \n",
            "34 2019-08-07  Central  Hermann     Shelli   Video Games   42.00      58.500   \n",
            "35 2019-08-24     West  Timothy    Stephen          Desk    3.00     125.000   \n",
            "36 2019-09-10  Central  Timothy      David    Television    7.00    1198.000   \n",
            "37 2019-09-27     West  Timothy    Stephen    Cell Phone   76.00     225.000   \n",
            "38 2019-10-14     West  Douglas    Michael  Home Theater   57.00     500.000   \n",
            "39 2019-10-31  Central   Martha     Steven    Television   14.00    1198.000   \n",
            "40 2019-11-17  Central  Hermann       Luis  Home Theater   11.00     500.000   \n",
            "41 2019-12-04  Central  Hermann       Luis  Home Theater   94.00     500.000   \n",
            "42 2019-12-21  Central   Martha     Steven  Home Theater   28.00     500.000   \n",
            "43        NaT      NaN      NaN        NaN           NaN  278.00    1125.000   \n",
            "44        NaT      NaN      NaN        NaN           NaN   34.75     140.625   \n",
            "\n",
            "     Sale_amt  \n",
            "0   113810.00  \n",
            "1    25000.00  \n",
            "2    43128.00  \n",
            "3     6075.00  \n",
            "4    67088.00  \n",
            "5    30000.00  \n",
            "6    89850.00  \n",
            "7   107820.00  \n",
            "8    38336.00  \n",
            "9    30000.00  \n",
            "10  107820.00  \n",
            "11   14500.00  \n",
            "12   40500.00  \n",
            "13   41930.00  \n",
            "14     250.00  \n",
            "15     936.00  \n",
            "16   14000.00  \n",
            "17   14400.00  \n",
            "18    3375.00  \n",
            "19    5616.00  \n",
            "20   80266.00  \n",
            "21    4329.00  \n",
            "22   23000.00  \n",
            "23   43500.00  \n",
            "24    2000.00  \n",
            "25    3500.00  \n",
            "26    2925.00  \n",
            "27   79068.00  \n",
            "28   21600.00  \n",
            "29   63494.00  \n",
            "30   40000.00  \n",
            "31     625.00  \n",
            "32    3627.00  \n",
            "33    3217.50  \n",
            "34    2457.00  \n",
            "35     375.00  \n",
            "36    8386.00  \n",
            "37   17100.00  \n",
            "38   28500.00  \n",
            "39   16772.00  \n",
            "40    5500.00  \n",
            "41   47000.00  \n",
            "42   14000.00  \n",
            "43   62550.00  \n",
            "44    7818.75  \n"
          ]
        }
      ],
      "source": [
        "# df1 = pd.read_csv(\"/content/drive/MyDrive/Colab Notebooks/SaleData.xlsx\") #  # Reading CSV file\n",
        "df = pd.read_excel(\"SaleData.xlsx\")  # Reading Excel file\n",
        "print(df)"
      ]
    },
    {
      "cell_type": "markdown",
      "metadata": {
        "id": "Phr2qBHvoh2d"
      },
      "source": [
        "### Understanding DataFrame Structure: ###"
      ]
    },
    {
      "cell_type": "code",
      "execution_count": 65,
      "metadata": {
        "colab": {
          "base_uri": "https://localhost:8080/"
        },
        "id": "DijL2vdgogaO",
        "outputId": "e82bf818-966c-4805-a9eb-9e94e77a66ae"
      },
      "outputs": [
        {
          "name": "stdout",
          "output_type": "stream",
          "text": [
            "(45, 8)\n",
            "Index(['OrderDate', 'Region', 'Manager', 'SalesMan', 'Item', 'Units',\n",
            "       'Unit_price', 'Sale_amt'],\n",
            "      dtype='object')\n",
            "RangeIndex(start=0, stop=45, step=1)\n",
            "OrderDate     datetime64[ns]\n",
            "Region                object\n",
            "Manager               object\n",
            "SalesMan              object\n",
            "Item                  object\n",
            "Units                float64\n",
            "Unit_price           float64\n",
            "Sale_amt             float64\n",
            "dtype: object\n"
          ]
        }
      ],
      "source": [
        "# # print(df.head())  # First five rows\n",
        "# # print(df.tail())  # Last five rows\n",
        "# print(df.info())  # Summary of the dataset\n",
        "# print(df.describe())  # Statistical summary\n",
        "print(df.shape)  # Number of rows and columns\n",
        "print(df.columns)  # Column names\n",
        "print(df.index)  # Row indices\n",
        "print(df.dtypes)  # Data types of each column"
      ]
    },
    {
      "cell_type": "markdown",
      "metadata": {
        "id": "p4jayE3WoyR1"
      },
      "source": [
        "###Accessing Data in a DataFrame:###"
      ]
    },
    {
      "cell_type": "code",
      "execution_count": 83,
      "metadata": {
        "colab": {
          "base_uri": "https://localhost:8080/"
        },
        "id": "gGJpcIECo98t",
        "outputId": "8e0d477e-aebe-4e9b-f42d-4168598536bc"
      },
      "outputs": [
        {
          "name": "stdout",
          "output_type": "stream",
          "text": [
            "\n",
            "      Region\n",
            "0      East\n",
            "1   Central\n",
            "2   Central\n",
            "3   Central\n",
            "4      West\n",
            "5      East\n",
            "6   Central\n",
            "7   Central\n",
            "8      West\n",
            "9      East\n",
            "10  Central\n",
            "11     East\n",
            "12     East\n",
            "13     East\n",
            "14  Central\n",
            "15     East\n",
            "16  Central\n",
            "17     East\n",
            "18     East\n",
            "19  Central\n",
            "20  Central\n",
            "21     East\n",
            "22  Central\n",
            "23  Central\n",
            "24     East\n",
            "25     West\n",
            "26  Central\n",
            "27  Central\n",
            "28     East\n",
            "29  Central\n",
            "30  Central\n",
            "31  Central\n",
            "32     East\n",
            "33  Central\n",
            "34  Central\n",
            "35     West\n",
            "36  Central\n",
            "37     West\n",
            "38     West\n",
            "39  Central\n",
            "40  Central\n",
            "41  Central\n",
            "42  Central\n",
            "43      NaN\n",
            "44      NaN\n",
            "0        East\n",
            "1     Central\n",
            "2     Central\n",
            "3     Central\n",
            "4        West\n",
            "5        East\n",
            "6     Central\n",
            "7     Central\n",
            "8        West\n",
            "9        East\n",
            "10    Central\n",
            "11       East\n",
            "12       East\n",
            "13       East\n",
            "14    Central\n",
            "15       East\n",
            "16    Central\n",
            "17       East\n",
            "18       East\n",
            "19    Central\n",
            "20    Central\n",
            "21       East\n",
            "22    Central\n",
            "23    Central\n",
            "24       East\n",
            "25       West\n",
            "26    Central\n",
            "27    Central\n",
            "28       East\n",
            "29    Central\n",
            "30    Central\n",
            "31    Central\n",
            "32       East\n",
            "33    Central\n",
            "34    Central\n",
            "35       West\n",
            "36    Central\n",
            "37       West\n",
            "38       West\n",
            "39    Central\n",
            "40    Central\n",
            "41    Central\n",
            "42    Central\n",
            "43        NaN\n",
            "44        NaN\n",
            "Name: Region, dtype: object \n",
            "\n"
          ]
        }
      ],
      "source": [
        "# Accessing a single column\n",
        "#df['column_name']\n",
        "\n",
        "# Accessing multiple columns\n",
        "#df[['col1', 'col2']]\n",
        "\n",
        "# Accessing rows using label-based indexing (loc)\n",
        "# print(df.loc[0],\"\\n\")  # First row\n",
        "print(\"\\n\",df.loc[:, ['Region']])  # All rows, specific columns\n",
        "\n",
        "# # # Accessing rows using position-based indexing (iloc)\n",
        "# print(df.iloc[0],\"\\n\")  # First row\n",
        "print(df.iloc[:,1],\"\\n\")  # All rows, second column"
      ]
    },
    {
      "cell_type": "markdown",
      "metadata": {
        "id": "5A62WMdIpSSG"
      },
      "source": [
        "##Exercises (Basic)##\n",
        "\n",
        "1. Create a Pandas Series with your five favorite numbers.\n",
        "\n",
        "2. Create a DataFrame with columns Name, Age, and Salary for 5 people.\n",
        "\n",
        "3. Convert a dictionary to a Pandas DataFrame and print its shape.\n",
        "\n",
        "4. Import a CSV file into a DataFrame and display the first five rows.\n",
        "\n",
        "5. Create a DataFrame from a list of dictionaries."
      ]
    },
    {
      "cell_type": "markdown",
      "metadata": {
        "id": "i88nkatdpi1t"
      },
      "source": [
        "##Exercises(Advanced)###\n",
        "1. Create a Series with country names as indices and their capitals as values.\n",
        "2. Convert a NumPy array into a DataFrame.\n",
        "3. Retrieve a specific column from a DataFrame.\n",
        "4. Retrieve the first three rows of a DataFrame.\n",
        "5. Modify a specific row's values in a DataFrame."
      ]
    }
  ],
  "metadata": {
    "colab": {
      "provenance": []
    },
    "kernelspec": {
      "display_name": "Python 3",
      "name": "python3"
    },
    "language_info": {
      "codemirror_mode": {
        "name": "ipython",
        "version": 3
      },
      "file_extension": ".py",
      "mimetype": "text/x-python",
      "name": "python",
      "nbconvert_exporter": "python",
      "pygments_lexer": "ipython3",
      "version": "3.13.2"
    }
  },
  "nbformat": 4,
  "nbformat_minor": 0
}
