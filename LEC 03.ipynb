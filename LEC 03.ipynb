{
  "cells": [
    {
      "cell_type": "code",
      "execution_count": null,
      "id": "7c14d516-fe3c-45f9-8cc7-c2190cc723c5",
      "metadata": {
        "id": "7c14d516-fe3c-45f9-8cc7-c2190cc723c5"
      },
      "outputs": [],
      "source": [
        "import pandas as pd\n",
        "import numpy as np"
      ]
    },
    {
      "cell_type": "code",
      "execution_count": 55,
      "id": "a7d22cb5-5e2d-44ab-8aef-c23ad35417c5",
      "metadata": {
        "id": "a7d22cb5-5e2d-44ab-8aef-c23ad35417c5",
        "outputId": "158aee00-73cc-4016-b076-68ef199830e1"
      },
      "outputs": [
        {
          "name": "stdout",
          "output_type": "stream",
          "text": [
            "a    1\n",
            "b    3\n",
            "c    5\n",
            "d    7\n",
            "e    9\n",
            "dtype: int64\n"
          ]
        }
      ],
      "source": [
        "s = pd.Series([1, 3, 5, 7, 9], index=['a', 'b', 'c', 'd', 'e'])\n",
        "print(s)\n"
      ]
    },
    {
      "cell_type": "code",
      "execution_count": 64,
      "id": "a360c72e-ade1-4973-9371-4901631e53eb",
      "metadata": {
        "id": "a360c72e-ade1-4973-9371-4901631e53eb",
        "outputId": "2dad0f3d-af56-41db-f44a-2e1892e6e720"
      },
      "outputs": [
        {
          "name": "stdout",
          "output_type": "stream",
          "text": [
            "   A  B  C\n",
            "0  1  4  7\n",
            "1  2  5  8\n",
            "2  3  6  9\n"
          ]
        }
      ],
      "source": [
        "df = pd.DataFrame({\n",
        "    'A': [1, 2, 3],\n",
        "    'B': [4, 5, 6],\n",
        "    'C': [7, 8, 9]\n",
        "})\n",
        "print(df)\n"
      ]
    },
    {
      "cell_type": "code",
      "execution_count": 57,
      "id": "a41fe1f6-2e42-4cd0-8f19-19da37be62ba",
      "metadata": {
        "id": "a41fe1f6-2e42-4cd0-8f19-19da37be62ba",
        "outputId": "be799b31-9494-4006-cef8-b8acac80e6be"
      },
      "outputs": [
        {
          "name": "stdout",
          "output_type": "stream",
          "text": [
            "0    1\n",
            "1    2\n",
            "2    3\n",
            "Name: A, dtype: int64\n",
            "A    1\n",
            "B    4\n",
            "C    7\n",
            "Name: 0, dtype: int64\n",
            "A    1\n",
            "B    4\n",
            "C    7\n",
            "Name: 0, dtype: int64\n"
          ]
        }
      ],
      "source": [
        "print(df['A'])  # Access column\n",
        "print(df.loc[0])  # Access row by label\n",
        "print(df.iloc[0])  # Access row by index\n"
      ]
    },
    {
      "cell_type": "markdown",
      "id": "2c1e2df7-4671-4731-8989-3dc8ea2f6219",
      "metadata": {
        "id": "2c1e2df7-4671-4731-8989-3dc8ea2f6219"
      },
      "source": [
        "Exercises\n",
        "\n",
        "1.\tCreate a Series with country names as indices and their capitals as values.\n",
        "2.\tConvert a NumPy array into a DataFrame.\n",
        "3.\tRetrieve a specific column from a DataFrame.\n",
        "4.\tRetrieve the first three rows of a DataFrame.\n",
        "5.\tModify a specific row's values in a DataFrame.\n"
      ]
    },
    {
      "cell_type": "markdown",
      "id": "6f2ee811-7e88-427f-a386-9741656bea9f",
      "metadata": {
        "id": "6f2ee811-7e88-427f-a386-9741656bea9f"
      },
      "source": [
        "Data Cleaning & Handling Missing Data"
      ]
    },
    {
      "cell_type": "markdown",
      "id": "4091cf82-ebe0-4293-bb94-49c07ab1f237",
      "metadata": {
        "id": "4091cf82-ebe0-4293-bb94-49c07ab1f237"
      },
      "source": [
        "Detecting Missing Data"
      ]
    },
    {
      "cell_type": "markdown",
      "id": "efc6aff6-dda1-4bfc-9464-6875fddbdf55",
      "metadata": {
        "id": "efc6aff6-dda1-4bfc-9464-6875fddbdf55"
      },
      "source": [
        "What is NaN?\n",
        "NaN stands for \"Not a Number\".\n",
        "It represents missing values in numerical and object (string) data types."
      ]
    },
    {
      "cell_type": "markdown",
      "id": "5875789c-4de2-446b-a2f8-3ece5dc39925",
      "metadata": {
        "id": "5875789c-4de2-446b-a2f8-3ece5dc39925"
      },
      "source": [
        "What is NaT?\n",
        "NaT stands for \"Not a Time\".\n",
        "It is used exclusively for missing datetime values in Pandas.\n",
        "NaT is similar to NaN, but specifically for date and time data."
      ]
    },
    {
      "cell_type": "code",
      "execution_count": 58,
      "id": "b582c7b7-8984-417d-8ecd-e65a1d59627a",
      "metadata": {
        "id": "b582c7b7-8984-417d-8ecd-e65a1d59627a",
        "outputId": "4eca79fe-e9a7-4e7c-e825-e7b659fb9144"
      },
      "outputs": [
        {
          "data": {
            "text/html": [
              "<div>\n",
              "<style scoped>\n",
              "    .dataframe tbody tr th:only-of-type {\n",
              "        vertical-align: middle;\n",
              "    }\n",
              "\n",
              "    .dataframe tbody tr th {\n",
              "        vertical-align: top;\n",
              "    }\n",
              "\n",
              "    .dataframe thead th {\n",
              "        text-align: right;\n",
              "    }\n",
              "</style>\n",
              "<table border=\"1\" class=\"dataframe\">\n",
              "  <thead>\n",
              "    <tr style=\"text-align: right;\">\n",
              "      <th></th>\n",
              "      <th>A</th>\n",
              "      <th>B</th>\n",
              "      <th>C</th>\n",
              "    </tr>\n",
              "  </thead>\n",
              "  <tbody>\n",
              "    <tr>\n",
              "      <th>0</th>\n",
              "      <td>False</td>\n",
              "      <td>False</td>\n",
              "      <td>False</td>\n",
              "    </tr>\n",
              "    <tr>\n",
              "      <th>1</th>\n",
              "      <td>False</td>\n",
              "      <td>False</td>\n",
              "      <td>False</td>\n",
              "    </tr>\n",
              "    <tr>\n",
              "      <th>2</th>\n",
              "      <td>False</td>\n",
              "      <td>False</td>\n",
              "      <td>False</td>\n",
              "    </tr>\n",
              "  </tbody>\n",
              "</table>\n",
              "</div>"
            ],
            "text/plain": [
              "       A      B      C\n",
              "0  False  False  False\n",
              "1  False  False  False\n",
              "2  False  False  False"
            ]
          },
          "execution_count": 58,
          "metadata": {},
          "output_type": "execute_result"
        }
      ],
      "source": [
        "df.isnull()\n"
      ]
    },
    {
      "cell_type": "markdown",
      "id": "019079b7-cd27-45ce-893f-37db030ae760",
      "metadata": {
        "id": "019079b7-cd27-45ce-893f-37db030ae760"
      },
      "source": [
        "It returns a DataFrame of the same shape as df, where:\n",
        "True means the value is missing (NaN)\n",
        "False means the value is not missing"
      ]
    },
    {
      "cell_type": "code",
      "execution_count": 59,
      "id": "c54b58b1-6a5f-44d9-a3eb-0fdd1791b993",
      "metadata": {
        "id": "c54b58b1-6a5f-44d9-a3eb-0fdd1791b993",
        "outputId": "6a4421a6-1c02-4c98-933b-19ec6270929a"
      },
      "outputs": [
        {
          "data": {
            "text/html": [
              "<div>\n",
              "<style scoped>\n",
              "    .dataframe tbody tr th:only-of-type {\n",
              "        vertical-align: middle;\n",
              "    }\n",
              "\n",
              "    .dataframe tbody tr th {\n",
              "        vertical-align: top;\n",
              "    }\n",
              "\n",
              "    .dataframe thead th {\n",
              "        text-align: right;\n",
              "    }\n",
              "</style>\n",
              "<table border=\"1\" class=\"dataframe\">\n",
              "  <thead>\n",
              "    <tr style=\"text-align: right;\">\n",
              "      <th></th>\n",
              "      <th>A</th>\n",
              "      <th>B</th>\n",
              "      <th>C</th>\n",
              "    </tr>\n",
              "  </thead>\n",
              "  <tbody>\n",
              "    <tr>\n",
              "      <th>0</th>\n",
              "      <td>False</td>\n",
              "      <td>False</td>\n",
              "      <td>False</td>\n",
              "    </tr>\n",
              "    <tr>\n",
              "      <th>1</th>\n",
              "      <td>False</td>\n",
              "      <td>False</td>\n",
              "      <td>False</td>\n",
              "    </tr>\n",
              "    <tr>\n",
              "      <th>2</th>\n",
              "      <td>False</td>\n",
              "      <td>False</td>\n",
              "      <td>False</td>\n",
              "    </tr>\n",
              "  </tbody>\n",
              "</table>\n",
              "</div>"
            ],
            "text/plain": [
              "       A      B      C\n",
              "0  False  False  False\n",
              "1  False  False  False\n",
              "2  False  False  False"
            ]
          },
          "execution_count": 59,
          "metadata": {},
          "output_type": "execute_result"
        }
      ],
      "source": [
        "df.isna()"
      ]
    },
    {
      "cell_type": "markdown",
      "id": "7cf6fdf8-778a-467a-ac42-aefaeecd5acd",
      "metadata": {
        "id": "7cf6fdf8-778a-467a-ac42-aefaeecd5acd"
      },
      "source": [
        "df.isnull() and df.isna() are identical in Pandas."
      ]
    },
    {
      "cell_type": "markdown",
      "id": "99ea1953-59a2-4ce4-96d2-07faf95c8af8",
      "metadata": {
        "id": "99ea1953-59a2-4ce4-96d2-07faf95c8af8"
      },
      "source": [
        "df.isnull().sum()\tCounts missing values per column"
      ]
    },
    {
      "cell_type": "code",
      "execution_count": null,
      "id": "9b566711-f931-422e-9a50-dd835cf41fd5",
      "metadata": {
        "id": "9b566711-f931-422e-9a50-dd835cf41fd5",
        "outputId": "0219ff0e-3e84-4d44-f964-1d1da53230df"
      },
      "outputs": [
        {
          "data": {
            "text/plain": [
              "A    0\n",
              "B    0\n",
              "C    0\n",
              "dtype: int64"
            ]
          },
          "execution_count": 62,
          "metadata": {},
          "output_type": "execute_result"
        }
      ],
      "source": [
        "df.isna().sum()"
      ]
    },
    {
      "cell_type": "markdown",
      "id": "c1ba77b6-4bff-4f1f-835d-8e9d2d294325",
      "metadata": {
        "id": "c1ba77b6-4bff-4f1f-835d-8e9d2d294325"
      },
      "source": [
        "Handling Missing data"
      ]
    },
    {
      "cell_type": "markdown",
      "id": "14092ddd-dec8-4181-8dee-abd5e62b268a",
      "metadata": {
        "id": "14092ddd-dec8-4181-8dee-abd5e62b268a"
      },
      "source": [
        "The df.fillna() function in Pandas is used to replace missing values (NaN or NaT) with a specified value."
      ]
    },
    {
      "cell_type": "markdown",
      "id": "3569af51-05c5-4ed5-8e31-4ef53c7717da",
      "metadata": {
        "id": "3569af51-05c5-4ed5-8e31-4ef53c7717da"
      },
      "source": [
        "Missing values (NaN or NaT) can cause issues in data analysis, machine learning, and visualization.\n",
        "fillna() helps to replace these missing values with:\n",
        "A specific value (e.g., 0, mean, median, etc.).\n",
        "A forward or backward filled value (propagating existing values).\n",
        "A computed value using a function."
      ]
    },
    {
      "cell_type": "code",
      "execution_count": 67,
      "id": "cf0715c6-ed1b-49bf-8a1a-f5e606ca2ab3",
      "metadata": {
        "id": "cf0715c6-ed1b-49bf-8a1a-f5e606ca2ab3",
        "outputId": "09187e47-f4f2-4a0f-a2de-2749ec7b2ec8"
      },
      "outputs": [
        {
          "name": "stdout",
          "output_type": "stream",
          "text": [
            "      Name   Age      City\n",
            "0    Alice  25.0  New York\n",
            "1      Bob   NaN       NaN\n",
            "2  Charlie  30.0   Chicago \n",
            "\n",
            "      Name      Age      City\n",
            "0    Alice     25.0  New York\n",
            "1      Bob  Unknown   Unknown\n",
            "2  Charlie     30.0   Chicago\n"
          ]
        }
      ],
      "source": [
        "import pandas as pd\n",
        "import numpy as np\n",
        "\n",
        "# Creating a DataFrame with missing values\n",
        "df = pd.DataFrame({\n",
        "    'Name': ['Alice', 'Bob', 'Charlie'],\n",
        "    'Age': [25, np.nan, 30],  # Bob's Age is missing (NaN)\n",
        "    'City': ['New York', np.nan, 'Chicago']  # Charlie's City is missing (NaN)\n",
        "})\n",
        "print(df,\"\\n\")\n",
        "\n",
        "# Filling NaN with a specific value\n",
        "df_filled = df.fillna(\"Unknown\")\n",
        "\n",
        "print(df_filled)\n"
      ]
    },
    {
      "cell_type": "code",
      "execution_count": 68,
      "id": "ac3ec576-9fc7-42d3-abcb-0842d1951393",
      "metadata": {
        "id": "ac3ec576-9fc7-42d3-abcb-0842d1951393",
        "outputId": "3e49dfad-816f-4e0d-f104-3f69e1cb201c"
      },
      "outputs": [
        {
          "name": "stdout",
          "output_type": "stream",
          "text": [
            "      Name   Age      City\n",
            "0    Alice  25.0  New York\n",
            "1      Bob   0.0   Unknown\n",
            "2  Charlie  30.0   Chicago\n"
          ]
        }
      ],
      "source": [
        "df_filled = df.fillna({'Age': 0, 'City': 'Unknown'})\n",
        "print(df_filled)\n"
      ]
    },
    {
      "cell_type": "code",
      "execution_count": 69,
      "id": "cbece5d6-5053-4ce9-89d0-38b4ee01f770",
      "metadata": {
        "id": "cbece5d6-5053-4ce9-89d0-38b4ee01f770",
        "outputId": "a2d30379-c512-4f73-ed03-fe2b44e422ee"
      },
      "outputs": [
        {
          "name": "stdout",
          "output_type": "stream",
          "text": [
            "      Name   Age      City\n",
            "0    Alice  25.0  New York\n",
            "1      Bob  27.5       NaN\n",
            "2  Charlie  30.0   Chicago\n"
          ]
        },
        {
          "name": "stderr",
          "output_type": "stream",
          "text": [
            "C:\\Users\\Zainab\\AppData\\Local\\Temp\\ipykernel_2044\\2369752753.py:1: FutureWarning: A value is trying to be set on a copy of a DataFrame or Series through chained assignment using an inplace method.\n",
            "The behavior will change in pandas 3.0. This inplace method will never work because the intermediate object on which we are setting values always behaves as a copy.\n",
            "\n",
            "For example, when doing 'df[col].method(value, inplace=True)', try using 'df.method({col: value}, inplace=True)' or df[col] = df[col].method(value) instead, to perform the operation inplace on the original object.\n",
            "\n",
            "\n",
            "  df['Age'].fillna(df['Age'].mean(), inplace=True)  # Fill NaN with mean of Age\n"
          ]
        }
      ],
      "source": [
        "df['Age'].fillna(df['Age'].mean(), inplace=True)  # Fill NaN with mean of Age\n",
        "print(df)\n"
      ]
    },
    {
      "cell_type": "code",
      "execution_count": 70,
      "id": "d489561f-80e6-4311-b26c-27a14babea37",
      "metadata": {
        "id": "d489561f-80e6-4311-b26c-27a14babea37",
        "outputId": "39a435c9-1313-432d-9cf0-c0f58a907334"
      },
      "outputs": [
        {
          "name": "stdout",
          "output_type": "stream",
          "text": [
            "      Name      Age      City\n",
            "0    Alice     25.0  New York\n",
            "1      Bob  Unknown   Unknown\n",
            "2  Charlie     30.0   Chicago\n"
          ]
        }
      ],
      "source": [
        "import pandas as pd\n",
        "import numpy as np\n",
        "\n",
        "# Creating a DataFrame with missing values\n",
        "df = pd.DataFrame({\n",
        "    'Name': ['Alice', 'Bob', 'Charlie'],\n",
        "    'Age': [25, np.nan, 30],  # Bob's Age is missing (NaN)\n",
        "    'City': ['New York', np.nan, 'Chicago']  # Charlie's City is missing (NaN)\n",
        "})\n",
        "\n",
        "# Filling NaN with a specific value\n",
        "df_filled = df.fillna(\"Unknown\")\n",
        "\n",
        "print(df_filled)\n"
      ]
    },
    {
      "cell_type": "code",
      "execution_count": null,
      "id": "f16032a1-8b01-4a5d-86f7-ae6fe387cb42",
      "metadata": {
        "id": "f16032a1-8b01-4a5d-86f7-ae6fe387cb42",
        "outputId": "28ac1464-c095-4e65-ecbe-df9193817f3e"
      },
      "outputs": [
        {
          "name": "stdout",
          "output_type": "stream",
          "text": [
            "      Name   Age      City\n",
            "0    Alice  25.0  New York\n",
            "1      Bob  25.0  New York\n",
            "2  Charlie  30.0   Chicago\n"
          ]
        },
        {
          "name": "stderr",
          "output_type": "stream",
          "text": [
            "C:\\Users\\Zainab\\AppData\\Local\\Temp\\ipykernel_2044\\351838175.py:1: FutureWarning: DataFrame.fillna with 'method' is deprecated and will raise in a future version. Use obj.ffill() or obj.bfill() instead.\n",
            "  df_ffill = df.fillna(method='ffill')\n"
          ]
        }
      ],
      "source": [
        "df_ffill = df.fillna(method='ffill') #ffill means forward fill\n",
        "print(df_ffill)\n"
      ]
    },
    {
      "cell_type": "code",
      "execution_count": 72,
      "id": "89e9e2b3-8c76-4631-95fa-ad65b47b65c4",
      "metadata": {
        "id": "89e9e2b3-8c76-4631-95fa-ad65b47b65c4",
        "outputId": "637d429c-d6d8-4b02-96e3-62ec9e783637"
      },
      "outputs": [
        {
          "name": "stdout",
          "output_type": "stream",
          "text": [
            "      Name   Age      City\n",
            "0    Alice  25.0  New York\n",
            "1      Bob  30.0   Chicago\n",
            "2  Charlie  30.0   Chicago\n"
          ]
        },
        {
          "name": "stderr",
          "output_type": "stream",
          "text": [
            "C:\\Users\\Zainab\\AppData\\Local\\Temp\\ipykernel_2044\\1700172544.py:1: FutureWarning: DataFrame.fillna with 'method' is deprecated and will raise in a future version. Use obj.ffill() or obj.bfill() instead.\n",
            "  df_bfill = df.fillna(method='bfill') #bfill means backward fill\n"
          ]
        }
      ],
      "source": [
        "df_bfill = df.fillna(method='bfill') #bfill means backward fill\n",
        "print(df_bfill)\n"
      ]
    },
    {
      "cell_type": "markdown",
      "id": "bb818254-d702-443a-bd28-06de64528205",
      "metadata": {
        "id": "bb818254-d702-443a-bd28-06de64528205"
      },
      "source": [
        "df.fillna() replaces missing (NaN) values.\n",
        "You can fill missing values with:\n",
        "A specific value (fillna(0), fillna(\"Unknown\")).\n",
        "A column's mean, median, or mode.\n",
        "Forward (ffill) or backward (bfill) fill.\n",
        "Helps in data cleaning and preprocessing."
      ]
    },
    {
      "cell_type": "code",
      "execution_count": 73,
      "id": "9a0b9d1c-a121-4841-8ab4-6142ff29a4b0",
      "metadata": {
        "id": "9a0b9d1c-a121-4841-8ab4-6142ff29a4b0",
        "outputId": "65fbc176-9eda-4978-ce19-ef7cbab87482"
      },
      "outputs": [
        {
          "data": {
            "text/html": [
              "<div>\n",
              "<style scoped>\n",
              "    .dataframe tbody tr th:only-of-type {\n",
              "        vertical-align: middle;\n",
              "    }\n",
              "\n",
              "    .dataframe tbody tr th {\n",
              "        vertical-align: top;\n",
              "    }\n",
              "\n",
              "    .dataframe thead th {\n",
              "        text-align: right;\n",
              "    }\n",
              "</style>\n",
              "<table border=\"1\" class=\"dataframe\">\n",
              "  <thead>\n",
              "    <tr style=\"text-align: right;\">\n",
              "      <th></th>\n",
              "      <th>Name</th>\n",
              "      <th>Age</th>\n",
              "      <th>City</th>\n",
              "    </tr>\n",
              "  </thead>\n",
              "  <tbody>\n",
              "    <tr>\n",
              "      <th>0</th>\n",
              "      <td>Alice</td>\n",
              "      <td>25.0</td>\n",
              "      <td>New York</td>\n",
              "    </tr>\n",
              "    <tr>\n",
              "      <th>1</th>\n",
              "      <td>Bob</td>\n",
              "      <td>0.0</td>\n",
              "      <td>0</td>\n",
              "    </tr>\n",
              "    <tr>\n",
              "      <th>2</th>\n",
              "      <td>Charlie</td>\n",
              "      <td>30.0</td>\n",
              "      <td>Chicago</td>\n",
              "    </tr>\n",
              "  </tbody>\n",
              "</table>\n",
              "</div>"
            ],
            "text/plain": [
              "      Name   Age      City\n",
              "0    Alice  25.0  New York\n",
              "1      Bob   0.0         0\n",
              "2  Charlie  30.0   Chicago"
            ]
          },
          "execution_count": 73,
          "metadata": {},
          "output_type": "execute_result"
        }
      ],
      "source": [
        "df.fillna(value=0)"
      ]
    },
    {
      "cell_type": "markdown",
      "id": "dce2c378-d264-41b4-97ab-84270895ca68",
      "metadata": {
        "id": "dce2c378-d264-41b4-97ab-84270895ca68"
      },
      "source": [
        "The df.dropna() function in Pandas is used to remove rows or columns that contain missing values (NaN or NaT).\n"
      ]
    },
    {
      "cell_type": "markdown",
      "id": "377496c3-6df4-4bb1-ae7a-c18fd231c4aa",
      "metadata": {
        "id": "377496c3-6df4-4bb1-ae7a-c18fd231c4aa"
      },
      "source": [
        "Missing values (NaN or NaT) can cause errors in analysis, machine learning, and visualization.\n",
        "dropna() removes incomplete data so that only valid entries remain."
      ]
    },
    {
      "cell_type": "code",
      "execution_count": 74,
      "id": "fb63e9cf-3b15-4b7d-ace1-8478bef9a6ed",
      "metadata": {
        "id": "fb63e9cf-3b15-4b7d-ace1-8478bef9a6ed",
        "outputId": "50a1907b-5067-4cb8-cb98-b3f0e8ececf9"
      },
      "outputs": [
        {
          "name": "stdout",
          "output_type": "stream",
          "text": [
            "Original DataFrame:\n",
            "      Name   Age         City\n",
            "0    Alice  25.0     New York\n",
            "1      Bob   NaN  Los Angeles\n",
            "2  Charlie  30.0          NaN\n",
            "3    David  22.0      Chicago\n",
            "\n",
            "DataFrame after dropna():\n",
            "    Name   Age      City\n",
            "0  Alice  25.0  New York\n",
            "3  David  22.0   Chicago\n"
          ]
        }
      ],
      "source": [
        "import pandas as pd\n",
        "import numpy as np\n",
        "\n",
        "# Creating a DataFrame with missing values\n",
        "df = pd.DataFrame({\n",
        "    'Name': ['Alice', 'Bob', 'Charlie', 'David'],\n",
        "    'Age': [25, np.nan, 30, 22],  # Bob's Age is missing (NaN)\n",
        "    'City': ['New York', 'Los Angeles', np.nan, 'Chicago']  # Charlie's City is missing (NaN)\n",
        "})\n",
        "\n",
        "print(\"Original DataFrame:\")\n",
        "print(df)\n",
        "\n",
        "# Drop rows with any NaN values\n",
        "df_cleaned = df.dropna()\n",
        "\n",
        "print(\"\\nDataFrame after dropna():\")\n",
        "print(df_cleaned)\n"
      ]
    },
    {
      "cell_type": "code",
      "execution_count": 75,
      "id": "e77e0914-f0b3-4ec9-8611-333a82ce6d55",
      "metadata": {
        "id": "e77e0914-f0b3-4ec9-8611-333a82ce6d55",
        "outputId": "c2e9c92f-d9bc-49fb-d449-a1e0339a35e7"
      },
      "outputs": [
        {
          "name": "stdout",
          "output_type": "stream",
          "text": [
            "      Name\n",
            "0    Alice\n",
            "1      Bob\n",
            "2  Charlie\n",
            "3    David\n"
          ]
        }
      ],
      "source": [
        "df_no_columns = df.dropna(axis=1)  # Removes columns with any NaN\n",
        "print(df_no_columns)\n"
      ]
    },
    {
      "cell_type": "code",
      "execution_count": 81,
      "id": "eb69602a-3903-43c4-8370-8d598820b781",
      "metadata": {
        "id": "eb69602a-3903-43c4-8370-8d598820b781",
        "outputId": "04fb163c-a16f-46f0-8d35-1e95e61c16d2"
      },
      "outputs": [
        {
          "name": "stdout",
          "output_type": "stream",
          "text": [
            "      Name   Age         City\n",
            "0    Alice  25.0     New York\n",
            "1      Bob   NaN  Los Angeles\n",
            "2  Charlie  30.0          NaN\n",
            "3    David  22.0      Chicago\n"
          ]
        }
      ],
      "source": [
        "df_thresh = df.dropna(thresh=2)  # Keep rows with at least 2 non-NaN values\n",
        "print(df_thresh)\n"
      ]
    },
    {
      "cell_type": "code",
      "execution_count": 82,
      "id": "bf556b3b-d2f4-4e1e-b92c-08e1bae1a470",
      "metadata": {
        "id": "bf556b3b-d2f4-4e1e-b92c-08e1bae1a470",
        "outputId": "628c05e1-ee9a-4151-b844-a1adcbfbb5b1"
      },
      "outputs": [
        {
          "name": "stdout",
          "output_type": "stream",
          "text": [
            "     A    B   C\n",
            "0  NaN  NaN NaN\n",
            "1  2.0  NaN NaN\n",
            "2  NaN  3.0 NaN \n",
            "\n",
            "\n",
            "     A    B   C\n",
            "1  2.0  NaN NaN\n",
            "2  NaN  3.0 NaN\n"
          ]
        }
      ],
      "source": [
        "df_all_nan = pd.DataFrame({\n",
        "    'A': [np.nan, 2, np.nan],\n",
        "    'B': [np.nan, np.nan, 3],\n",
        "    'C': [np.nan, np.nan, np.nan]\n",
        "})\n",
        "\n",
        "print(df_all_nan,\"\\n\\n\")\n",
        "\n",
        "df_dropped_all = df_all_nan.dropna(how='all')\n",
        "print(df_dropped_all)\n"
      ]
    },
    {
      "cell_type": "code",
      "execution_count": 83,
      "id": "d22d46ec-024d-4f30-9564-c139b650e294",
      "metadata": {
        "id": "d22d46ec-024d-4f30-9564-c139b650e294",
        "outputId": "eed1b313-3a80-4d6b-ab2e-d911e2c0f616"
      },
      "outputs": [
        {
          "name": "stdout",
          "output_type": "stream",
          "text": [
            "      Name   Age      City\n",
            "0    Alice  25.0  New York\n",
            "2  Charlie  30.0       NaN\n",
            "3    David  22.0   Chicago\n"
          ]
        }
      ],
      "source": [
        "df_filtered = df.dropna(subset=['Age'])  # Remove rows where 'Age' is NaN\n",
        "print(df_filtered)\n"
      ]
    },
    {
      "cell_type": "code",
      "execution_count": 84,
      "id": "d0d405cb-fbe8-486f-b210-a003823901f4",
      "metadata": {
        "id": "d0d405cb-fbe8-486f-b210-a003823901f4",
        "outputId": "8514ddf2-1b11-4d72-a197-9904a1624183"
      },
      "outputs": [
        {
          "data": {
            "text/html": [
              "<div>\n",
              "<style scoped>\n",
              "    .dataframe tbody tr th:only-of-type {\n",
              "        vertical-align: middle;\n",
              "    }\n",
              "\n",
              "    .dataframe tbody tr th {\n",
              "        vertical-align: top;\n",
              "    }\n",
              "\n",
              "    .dataframe thead th {\n",
              "        text-align: right;\n",
              "    }\n",
              "</style>\n",
              "<table border=\"1\" class=\"dataframe\">\n",
              "  <thead>\n",
              "    <tr style=\"text-align: right;\">\n",
              "      <th></th>\n",
              "      <th>Name</th>\n",
              "      <th>Age</th>\n",
              "      <th>City</th>\n",
              "    </tr>\n",
              "  </thead>\n",
              "  <tbody>\n",
              "    <tr>\n",
              "      <th>0</th>\n",
              "      <td>Alice</td>\n",
              "      <td>25.0</td>\n",
              "      <td>New York</td>\n",
              "    </tr>\n",
              "    <tr>\n",
              "      <th>3</th>\n",
              "      <td>David</td>\n",
              "      <td>22.0</td>\n",
              "      <td>Chicago</td>\n",
              "    </tr>\n",
              "  </tbody>\n",
              "</table>\n",
              "</div>"
            ],
            "text/plain": [
              "    Name   Age      City\n",
              "0  Alice  25.0  New York\n",
              "3  David  22.0   Chicago"
            ]
          },
          "execution_count": 84,
          "metadata": {},
          "output_type": "execute_result"
        }
      ],
      "source": [
        "df.dropna()"
      ]
    },
    {
      "cell_type": "markdown",
      "id": "ad5dee9a-6e06-4c9a-b0c1-d434339ac4d7",
      "metadata": {
        "id": "ad5dee9a-6e06-4c9a-b0c1-d434339ac4d7"
      },
      "source": [
        "Exercises\n",
        "1.\tDetect missing values in a dataset.\n",
        "2.\tReplace missing values with the column mean.\n",
        "3.\tDrop all rows with missing values.\n",
        "4.\tFill missing values with a fixed value.\n",
        "5.\tInterpolate missing values in time series data.\n"
      ]
    },
    {
      "cell_type": "code",
      "execution_count": null,
      "id": "45e8fa8a-2a79-4525-af1d-0d5a3327a64f",
      "metadata": {
        "id": "45e8fa8a-2a79-4525-af1d-0d5a3327a64f",
        "outputId": "8f39b96f-3547-4ea7-e673-b6b1bb68801a"
      },
      "outputs": [],
      "source": [
        "# Creating a DataFrame from a dictionary\n",
        "data = {\n",
        "    'Name': ['Alice', 'Bob', 'Charlie'],\n",
        "    'Age': [25, 30, 35],\n",
        "    'City': ['New York', 'San Francisco', 'Los Angeles']\n",
        "}\n",
        "df = pd.DataFrame(data)\n",
        "\n",
        "print(\"Pandas DataFrame:\")\n",
        "df\n"
      ]
    },
    {
      "cell_type": "code",
      "execution_count": null,
      "id": "a3299053-e770-4a85-a4a6-c04fc6dae822",
      "metadata": {
        "id": "a3299053-e770-4a85-a4a6-c04fc6dae822",
        "outputId": "39addc15-1300-4e3b-f333-b2fbac5a0ad9"
      },
      "outputs": [],
      "source": [
        "# Adding a new column\n",
        "df['Salary'] = [50000, 60000, 70000]\n",
        "print(\"DataFrame with Salary column added:\")\n",
        "print(df)\n"
      ]
    },
    {
      "cell_type": "code",
      "execution_count": null,
      "id": "8c5e62c9-5ddd-4288-b91d-16326de27d7e",
      "metadata": {
        "id": "8c5e62c9-5ddd-4288-b91d-16326de27d7e",
        "outputId": "8ecb9a56-3ead-4602-bb98-a5f73d5fdc4f"
      },
      "outputs": [],
      "source": [
        "df[['Name', 'City']]\n",
        "\n"
      ]
    },
    {
      "cell_type": "code",
      "execution_count": null,
      "id": "2a1165da-1918-4f1f-8181-2823e73f327a",
      "metadata": {
        "id": "2a1165da-1918-4f1f-8181-2823e73f327a",
        "outputId": "2076cd7d-c877-4e53-b0bb-701ddb443878"
      },
      "outputs": [],
      "source": [
        "df.loc[df['Age'] > 25]"
      ]
    },
    {
      "cell_type": "code",
      "execution_count": null,
      "id": "2d761cd1-cccc-4385-8cae-baef10ab5f9f",
      "metadata": {
        "id": "2d761cd1-cccc-4385-8cae-baef10ab5f9f",
        "outputId": "c0f906b7-6761-471c-bef8-acaa0365c498"
      },
      "outputs": [],
      "source": [
        "df[df['Salary'] > 50000]"
      ]
    },
    {
      "cell_type": "markdown",
      "id": "132688e4-1cc6-477a-b325-a2c2fcdb755e",
      "metadata": {
        "id": "132688e4-1cc6-477a-b325-a2c2fcdb755e"
      },
      "source": [
        "Exercises\n",
        "1.\tSelect a subset of columns from a DataFrame.\n",
        "2.\tFilter rows based on a condition.\n",
        "3.\tFilter rows based on multiple conditions.\n",
        "4.\tSelect specific rows using .loc[] and .iloc[].\n",
        "5.\tRetrieve only even-indexed rows from a DataFrame.\n"
      ]
    },
    {
      "cell_type": "markdown",
      "id": "55b35619-c14b-4c20-b2ab-e8a18c900460",
      "metadata": {
        "id": "55b35619-c14b-4c20-b2ab-e8a18c900460"
      },
      "source": [
        "Sorting Data"
      ]
    },
    {
      "cell_type": "code",
      "execution_count": null,
      "id": "4d0020aa-72e0-46ef-9bc0-7de722e96d7f",
      "metadata": {
        "id": "4d0020aa-72e0-46ef-9bc0-7de722e96d7f",
        "outputId": "b731c4a0-f440-4640-88e3-1e2dc78759b1"
      },
      "outputs": [],
      "source": [
        "df.sort_values(by='Age', ascending=False)"
      ]
    },
    {
      "cell_type": "code",
      "execution_count": null,
      "id": "21bbeafd-15fb-4a8e-9611-228d909e358b",
      "metadata": {
        "id": "21bbeafd-15fb-4a8e-9611-228d909e358b"
      },
      "outputs": [],
      "source": [
        "df.rename(columns={'Age': 'Years'}, inplace=True)"
      ]
    },
    {
      "cell_type": "code",
      "execution_count": null,
      "id": "3812de65-6117-4a2f-9c61-b8bc7bf6b078",
      "metadata": {
        "id": "3812de65-6117-4a2f-9c61-b8bc7bf6b078",
        "outputId": "4dabf3ea-52e1-45a2-c46d-121b90b841ae"
      },
      "outputs": [],
      "source": [
        "df"
      ]
    },
    {
      "cell_type": "markdown",
      "id": "30060269-eff4-4df5-bea9-368940c76374",
      "metadata": {
        "id": "30060269-eff4-4df5-bea9-368940c76374"
      },
      "source": [
        "Exercises\n",
        "1.\tSort a DataFrame by a numerical column.\n",
        "2.\tRename a column.\n",
        "3.\tAdd a new column.\n",
        "4.\tRemove a column.\n",
        "5.\tSort by multiple columns.\n"
      ]
    },
    {
      "cell_type": "markdown",
      "id": "b5ed928f-1c91-431f-b9be-9f546c97fc73",
      "metadata": {
        "id": "b5ed928f-1c91-431f-b9be-9f546c97fc73"
      },
      "source": [
        "Use GroupBy"
      ]
    },
    {
      "cell_type": "code",
      "execution_count": null,
      "id": "cd02d9db-256b-4366-afa5-aa98fdcb2eda",
      "metadata": {
        "id": "cd02d9db-256b-4366-afa5-aa98fdcb2eda",
        "outputId": "996cab86-78af-4c48-d33d-f43bc90d45f5"
      },
      "outputs": [],
      "source": [
        "import pandas as pd\n",
        "\n",
        "# Creating a sample DataFrame\n",
        "data = {\n",
        "    'Category': ['Electronics', 'Furniture', 'Electronics', 'Clothing', 'Furniture', 'Clothing'],\n",
        "    'Sales': [1000, 500, 700, 300, 800, 400]\n",
        "}\n",
        "\n",
        "df = pd.DataFrame(data)\n",
        "print(df)\n"
      ]
    },
    {
      "cell_type": "code",
      "execution_count": null,
      "id": "94edd548-1599-413d-a78f-857d7df7f298",
      "metadata": {
        "id": "94edd548-1599-413d-a78f-857d7df7f298",
        "outputId": "f285abb4-51ac-418f-8abe-cd49d1b21568"
      },
      "outputs": [],
      "source": [
        "sales_by_category = df.groupby('Category')['Sales'].sum()\n",
        "print(sales_by_category)"
      ]
    },
    {
      "cell_type": "markdown",
      "id": "6f355318-215b-4aa5-bca1-84e7cd120809",
      "metadata": {
        "id": "6f355318-215b-4aa5-bca1-84e7cd120809"
      },
      "source": [
        "1. Groups the rows by Category (Electronics, Furniture, Clothing).\n",
        "2. Sums the Sales values for each group.\n",
        "3. Returns a Pandas Series where the index is Category and the values are the sum of Sales."
      ]
    },
    {
      "cell_type": "markdown",
      "id": "5dc68e29-863e-4313-b810-0193b6d0056e",
      "metadata": {
        "id": "5dc68e29-863e-4313-b810-0193b6d0056e"
      },
      "source": [
        "Here, Category is now the index instead of a column.\n",
        "This result is a Pandas Series, not a DataFrame."
      ]
    },
    {
      "cell_type": "code",
      "execution_count": null,
      "id": "64a01e2c-3491-4bb8-b600-0b54d5381f7c",
      "metadata": {
        "id": "64a01e2c-3491-4bb8-b600-0b54d5381f7c",
        "outputId": "7226aa41-7851-402b-8289-a19e1281c9b6"
      },
      "outputs": [],
      "source": [
        "sales_by_category_df = df.groupby('Category', as_index=False)['Sales'].sum()\n",
        "print(sales_by_category_df)"
      ]
    },
    {
      "cell_type": "markdown",
      "id": "e5bbff37-5f44-425e-9f93-2e6eff50bfce",
      "metadata": {
        "id": "e5bbff37-5f44-425e-9f93-2e6eff50bfce"
      },
      "source": [
        "Now, Category remains a column, not an index.\n",
        "The result is a DataFrame, making it easier for further processing, merging, or exporting."
      ]
    },
    {
      "cell_type": "code",
      "execution_count": null,
      "id": "a688235b-7e78-4306-879f-bfb83f3a86af",
      "metadata": {
        "id": "a688235b-7e78-4306-879f-bfb83f3a86af",
        "outputId": "6c80be3a-37dc-47e2-862c-c96a608d0ec8"
      },
      "outputs": [],
      "source": [
        "import pandas as pd\n",
        "\n",
        "# Sample DataFrame\n",
        "data = {\n",
        "    'Category': ['A', 'B', 'A', 'B', 'A', 'C', 'C', 'B'],\n",
        "    'Value': [10, 20, 15, 25, 30, 35, 40, 50]\n",
        "}\n",
        "\n",
        "df = pd.DataFrame(data)\n",
        "\n",
        "print(df,)"
      ]
    },
    {
      "cell_type": "code",
      "execution_count": null,
      "id": "8390ec81-1f66-43ba-8d67-7816abf142c1",
      "metadata": {
        "id": "8390ec81-1f66-43ba-8d67-7816abf142c1"
      },
      "outputs": [],
      "source": [
        "# Group the data by 'Category'\n",
        "grouped_data = df.groupby('Category')\n"
      ]
    },
    {
      "cell_type": "code",
      "execution_count": null,
      "id": "df1e72b1-ec53-4a33-b6cd-14fd3cc78a7d",
      "metadata": {
        "id": "df1e72b1-ec53-4a33-b6cd-14fd3cc78a7d",
        "outputId": "e2025ab5-bf6c-4409-d69e-1f32e327577c"
      },
      "outputs": [],
      "source": [
        "# Print the groups\n",
        "for name, group in grouped_data:\n",
        "    print(f\"Category: {name}\")\n",
        "    print(group, \"\\n\")"
      ]
    },
    {
      "cell_type": "markdown",
      "id": "83d47f40-03e4-4637-a05e-a34e8e4e974b",
      "metadata": {
        "id": "83d47f40-03e4-4637-a05e-a34e8e4e974b"
      },
      "source": [
        "Explanation\n",
        "\n",
        "1. The .groupby('Category') function groups the DataFrame by the Category column.\n",
        "2. We can iterate over the grouped object to see the individual groups.\n",
        "3. This is useful when analyzing how data is distributed across different categories."
      ]
    },
    {
      "cell_type": "code",
      "execution_count": null,
      "id": "c0bf052c-fa82-4871-a6f2-1a9569a8761b",
      "metadata": {
        "id": "c0bf052c-fa82-4871-a6f2-1a9569a8761b",
        "outputId": "f6f7437f-65e0-408f-8118-c040bc319a64"
      },
      "outputs": [],
      "source": [
        "# Find the average (mean) Value for each Category\n",
        "average_per_group = df.groupby('Category')['Value'].mean()\n",
        "print(average_per_group)\n"
      ]
    },
    {
      "cell_type": "markdown",
      "id": "7d60c028-4f68-4338-8e1e-7e72293e2540",
      "metadata": {
        "id": "7d60c028-4f68-4338-8e1e-7e72293e2540"
      },
      "source": [
        "The .groupby('Category')['Value'].mean() calculates the average value for each category.\n",
        "It returns a Pandas Series where the index is Category, and values are the mean of Value.\n",
        "This is useful when analyzing the average sales, performance, or trends per category."
      ]
    },
    {
      "cell_type": "code",
      "execution_count": null,
      "id": "512d1b6e-17de-4651-8f8f-afa112372346",
      "metadata": {
        "id": "512d1b6e-17de-4651-8f8f-afa112372346",
        "outputId": "449f8aea-46e1-449b-96cf-b09470dbf925"
      },
      "outputs": [],
      "source": [
        "# Count the number of rows per category\n",
        "count_per_group = df.groupby('Category')['Value'].count()\n",
        "print(count_per_group)\n"
      ]
    },
    {
      "cell_type": "markdown",
      "id": "e4b48981-4441-405a-863a-7dfd3dc8e909",
      "metadata": {
        "id": "e4b48981-4441-405a-863a-7dfd3dc8e909"
      },
      "source": [
        ".count() counts the number of rows per category.\n",
        "Useful for checking how frequently each category appears.\n",
        "Common in sales data (e.g., how many orders per product type)."
      ]
    },
    {
      "cell_type": "code",
      "execution_count": null,
      "id": "f6c6d81a-d73e-4797-ad90-551b8985a38b",
      "metadata": {
        "id": "f6c6d81a-d73e-4797-ad90-551b8985a38b",
        "outputId": "8c541bf0-fdcd-4c05-c2ef-934ed955ed00"
      },
      "outputs": [],
      "source": [
        "# Find the maximum value for each category\n",
        "max_per_group = df.groupby('Category')['Value'].max()\n",
        "print(max_per_group)\n"
      ]
    },
    {
      "cell_type": "code",
      "execution_count": null,
      "id": "f82aa1dc-cb15-41b1-a0fe-d1215df3958d",
      "metadata": {
        "id": "f82aa1dc-cb15-41b1-a0fe-d1215df3958d",
        "outputId": "0f8fd437-54ca-4a62-ce79-f21f086efc00"
      },
      "outputs": [],
      "source": [
        "# Apply multiple functions: mean, max, and count\n",
        "aggregated_data = df.groupby('Category')['Value'].agg(['mean', 'max', 'count'])\n",
        "print(aggregated_data)\n"
      ]
    },
    {
      "cell_type": "markdown",
      "id": "bbe1602b-b4c4-4ea5-afe1-9114dbc9497d",
      "metadata": {
        "id": "bbe1602b-b4c4-4ea5-afe1-9114dbc9497d"
      },
      "source": [
        ".agg(['mean', 'max', 'count']) applies multiple functions at once.\n",
        "Instead of running mean(), max(), and count() separately, we do it in a single step.\n",
        "This is useful for comprehensive reports showing multiple insights at once."
      ]
    },
    {
      "cell_type": "markdown",
      "id": "700a4f2f-11c9-4cad-80ae-733d77506742",
      "metadata": {
        "id": "700a4f2f-11c9-4cad-80ae-733d77506742"
      },
      "source": [
        "Function\t           Purpose\n",
        ".groupby()\t           Groups data by a categorical column\n",
        ".mean()\t               Finds the average value per group\n",
        ".count()\t           Counts the number of items per group\n",
        ".max()\t               Finds the highest value per group\n",
        ".agg([functions])\t   Applies multiple aggregation functions\n"
      ]
    },
    {
      "cell_type": "markdown",
      "id": "0a062552-f029-4fab-a072-7478e5a408d6",
      "metadata": {
        "id": "0a062552-f029-4fab-a072-7478e5a408d6"
      },
      "source": [
        "Exercise 1: Group Data by a Categorical Column\n",
        "\n",
        "Create a DataFrame sales_data with columns:\n",
        "\n",
        "Product: Name of the product (e.g., \"Laptop\", \"Phone\").\n",
        "Category: Type of product (e.g., \"Electronics\", \"Accessories\").\n",
        "Revenue: Sales revenue for each product.\n",
        "Then, group the data by Category."
      ]
    },
    {
      "cell_type": "markdown",
      "id": "d577f656-951e-48c0-9d24-4b0e25671fb7",
      "metadata": {
        "id": "d577f656-951e-48c0-9d24-4b0e25671fb7"
      },
      "source": [
        "Exercise 2: Find the Average Value Per Group\n",
        "\n",
        "Use the sales_data DataFrame.\n",
        "Find the average revenue per product category."
      ]
    },
    {
      "cell_type": "markdown",
      "id": "c1d41d5f-6e15-4d94-9f27-0cd5cf7b9da4",
      "metadata": {
        "id": "c1d41d5f-6e15-4d94-9f27-0cd5cf7b9da4"
      },
      "source": [
        "Exercise 3: Count the Number of Items Per Group\n",
        "\n",
        "Use the sales_data DataFrame.\n",
        "Count how many products are in each category."
      ]
    },
    {
      "cell_type": "markdown",
      "id": "4f95737e-a131-4adf-bc03-5df324c2a7f3",
      "metadata": {
        "id": "4f95737e-a131-4adf-bc03-5df324c2a7f3"
      },
      "source": [
        "Exercise 4: Find the Max Value in Each Group\n",
        "\n",
        "Use the sales_data DataFrame.\n",
        "Find the highest revenue product in each category."
      ]
    },
    {
      "cell_type": "markdown",
      "id": "f083a7a5-a100-4266-9dc3-92810648b5d7",
      "metadata": {
        "id": "f083a7a5-a100-4266-9dc3-92810648b5d7"
      },
      "source": [
        "Exercise 5: Apply Multiple Aggregation Functions\n",
        "\n",
        "Use the sales_data DataFrame.\n",
        "Find the average, maximum, and count of revenue for each category using multiple aggregation functions."
      ]
    },
    {
      "cell_type": "code",
      "execution_count": null,
      "id": "613f3210-8c70-40cb-bea4-4d03df28a59c",
      "metadata": {
        "id": "613f3210-8c70-40cb-bea4-4d03df28a59c",
        "outputId": "bb424338-a6bd-43dc-abc2-3b9369159cc9"
      },
      "outputs": [],
      "source": [
        "import pandas as pd\n",
        "\n",
        "# Create two DataFrames\n",
        "df1 = pd.DataFrame({'ID': [1, 2, 3], 'Name': ['Alice', 'Bob', 'Charlie']})\n",
        "df2 = pd.DataFrame({'ID': [1, 2, 3], 'Salary': [50000, 60000, 70000]})\n",
        "\n",
        "# Merge the two DataFrames on 'ID'\n",
        "merged_df = pd.merge(df1, df2, on='ID')\n",
        "\n",
        "print(merged_df)\n"
      ]
    },
    {
      "cell_type": "code",
      "execution_count": null,
      "id": "dd8c1303-994b-4ec5-9042-f415e18d3b9c",
      "metadata": {
        "id": "dd8c1303-994b-4ec5-9042-f415e18d3b9c",
        "outputId": "3da81a0a-71d0-4eb1-a3c9-82fd296a631c"
      },
      "outputs": [],
      "source": [
        "df1 = pd.DataFrame({'ID': [1, 2, 3], 'Name': ['Alice', 'Bob', 'Charlie']})\n",
        "df2 = pd.DataFrame({'ID': [2, 3, 4], 'Salary': [60000, 70000, 80000]})\n",
        "\n",
        "print(df1,\"\\n\")\n",
        "print(df2,\"\\n\")"
      ]
    },
    {
      "cell_type": "code",
      "execution_count": null,
      "id": "6e8b71c2-4b45-4bbc-8c57-b5db71381211",
      "metadata": {
        "id": "6e8b71c2-4b45-4bbc-8c57-b5db71381211",
        "outputId": "7b7fced9-96e4-4294-d785-5daccba9dd27"
      },
      "outputs": [],
      "source": [
        "# Perform an inner join\n",
        "inner_join_df = pd.merge(df1, df2, on='ID', how='inner')\n",
        "\n",
        "print(inner_join_df)"
      ]
    },
    {
      "cell_type": "markdown",
      "id": "65c41b3a-69c3-4447-b651-561319d798c4",
      "metadata": {
        "id": "65c41b3a-69c3-4447-b651-561319d798c4"
      },
      "source": [
        "how='inner' ensures that only matching records (IDs 2 and 3) are included.\n",
        "ID 4 from df2 and ID 1 from df1 are dropped because they have no match.\n",
        "This is useful when combining data that must have a direct relationship (e.g., customers with purchases)."
      ]
    },
    {
      "cell_type": "code",
      "execution_count": null,
      "id": "9fd6dfcb-94df-4a4f-8bfa-bef416359fc9",
      "metadata": {
        "id": "9fd6dfcb-94df-4a4f-8bfa-bef416359fc9",
        "outputId": "1d32434b-637f-45a7-f867-2014fe337282"
      },
      "outputs": [],
      "source": [
        "# Perform a left join\n",
        "left_join_df = pd.merge(df1, df2, on='ID', how='left')\n",
        "\n",
        "print(left_join_df)\n"
      ]
    },
    {
      "cell_type": "markdown",
      "id": "c1a65348-4284-40d6-92f3-39ca4028f889",
      "metadata": {
        "id": "c1a65348-4284-40d6-92f3-39ca4028f889"
      },
      "source": [
        "how='left' keeps all rows from the left DataFrame (df1) and adds matching data from df2.\n",
        "If no match is found, the missing values appear as NaN.\n",
        "ID 1 remains in the output with a NaN Salary because it does not exist in df2.\n",
        "This is useful for keeping all primary records (e.g., all employees even if they don’t have salary data yet)."
      ]
    },
    {
      "cell_type": "code",
      "execution_count": null,
      "id": "474b9f45-51b9-4c32-b26d-d94b715c65c9",
      "metadata": {
        "id": "474b9f45-51b9-4c32-b26d-d94b715c65c9",
        "outputId": "500c35d2-c30b-4904-e9cf-15c756459fb7"
      },
      "outputs": [],
      "source": [
        "df3 = pd.DataFrame({'ID': [4, 5], 'Name': ['David', 'Emma']})\n",
        "\n",
        "# Concatenate df1 and df3\n",
        "concat_df = pd.concat([df1, df3], ignore_index=True)\n",
        "\n",
        "print(concat_df)\n"
      ]
    },
    {
      "cell_type": "markdown",
      "id": "5a50bae6-27cd-4dcf-99a6-da36c1c1993f",
      "metadata": {
        "id": "5a50bae6-27cd-4dcf-99a6-da36c1c1993f"
      },
      "source": [
        "pd.concat([df1, df3], ignore_index=True) stacks the rows from df3 below df1.\n",
        "Useful for appending data (e.g., adding new employees to an existing list).\n",
        "ignore_index=True resets the index to maintain order."
      ]
    },
    {
      "cell_type": "code",
      "execution_count": null,
      "id": "80b00a89-9127-489f-a3dd-af61ffce3cc6",
      "metadata": {
        "id": "80b00a89-9127-489f-a3dd-af61ffce3cc6",
        "outputId": "460e4347-bb56-4aed-d4c5-d42ad9dda5a8"
      },
      "outputs": [],
      "source": [
        "df4 = pd.DataFrame({'ID': [1, 2, 3, 4], 'Department': ['HR', 'IT', 'Finance', 'Marketing']})\n",
        "\n",
        "print(df1,\"\\n\\n\")\n",
        "\n",
        "print(df2,\"\\n\\n\")\n",
        "\n",
        "# Merge three DataFrames\n",
        "final_df = df1.merge(df2, on='ID', how='left').merge(df4, on='ID', how='left')\n",
        "\n",
        "print(final_df)\n"
      ]
    },
    {
      "cell_type": "markdown",
      "id": "bc575803-1ff2-4c4e-af39-e89d02d56616",
      "metadata": {
        "id": "bc575803-1ff2-4c4e-af39-e89d02d56616"
      },
      "source": [
        "We merge multiple DataFrames step by step.\n",
        "First, merge df1 with df2 (left join), then merge the result with df4.\n",
        "This is useful for combining data from multiple sources (e.g., employee names, salaries, and departments)."
      ]
    },
    {
      "cell_type": "markdown",
      "id": "ea0b8a5b-0e2a-49f7-8d65-c2730b8e29cb",
      "metadata": {
        "id": "ea0b8a5b-0e2a-49f7-8d65-c2730b8e29cb"
      },
      "source": [
        "Operation\t             Purpose\n",
        "merge()\t                 Combines DataFrames based on a common column\n",
        "how='inner'\t             Keeps only matching records from both DataFrames\n",
        "how='left'\t             Keeps all records from the left DataFrame, filling missing values with NaN\n",
        "concat()\t             Stacks DataFrames vertically or horizontally\n",
        "Multiple merge()\t     Combines multiple related datasets"
      ]
    },
    {
      "cell_type": "markdown",
      "id": "8dc5ed9d-f859-4823-8959-965fba8b5b26",
      "metadata": {
        "id": "8dc5ed9d-f859-4823-8959-965fba8b5b26"
      },
      "source": [
        "Exercise 1: Merge Two DataFrames\n",
        "\n",
        "Create two DataFrames:\n",
        "\n",
        "students: Contains ID and Name.\n",
        "marks: Contains ID and Math_Score.\n",
        "Then, merge them based on ID."
      ]
    },
    {
      "cell_type": "markdown",
      "id": "f8edc749-d75e-4121-ac6c-acbbc22a4a4f",
      "metadata": {
        "id": "f8edc749-d75e-4121-ac6c-acbbc22a4a4f"
      },
      "source": [
        "Exercise 2: Perform an Inner Join\n",
        "\n",
        "Create two DataFrames:\n",
        "\n",
        "employees: Contains Employee_ID and Employee_Name.\n",
        "salaries: Contains Employee_ID and Salary but includes some missing IDs.\n",
        "Perform an inner join on Employee_ID."
      ]
    },
    {
      "cell_type": "markdown",
      "id": "67789bca-c22a-480b-affe-f0b7a90eb6d5",
      "metadata": {
        "id": "67789bca-c22a-480b-affe-f0b7a90eb6d5"
      },
      "source": [
        "Exercise 3: Perform a Left Join\n",
        "\n",
        "Use the employees and salaries DataFrames from Exercise 2.\n",
        "Perform a left join, keeping all employees even if they don’t have salary data."
      ]
    },
    {
      "cell_type": "markdown",
      "id": "898f6730-3a34-4353-a868-9b3f1abf4169",
      "metadata": {
        "id": "898f6730-3a34-4353-a868-9b3f1abf4169"
      },
      "source": [
        "Exercise 4: Concatenate Two DataFrames\n",
        "\n",
        "Create two DataFrames:\n",
        "\n",
        "batch_1: Contains students ID and Name.\n",
        "batch_2: Contains more students with the same columns.\n",
        "Concatenate them into a single DataFrame."
      ]
    },
    {
      "cell_type": "markdown",
      "id": "c21a43dc-1d70-4590-a542-48b799d0faa9",
      "metadata": {
        "id": "c21a43dc-1d70-4590-a542-48b799d0faa9"
      },
      "source": [
        "Exercise 5: Join Multiple DataFrames\n",
        "\n",
        "Create three DataFrames:\n",
        "\n",
        "students: Contains ID and Name.\n",
        "marks: Contains ID and Math_Score.\n",
        "departments: Contains ID and Department.\n",
        "Merge them into a final DataFrame."
      ]
    },
    {
      "cell_type": "markdown",
      "id": "1111bb3b-c863-451e-bbee-8a7f69ecce07",
      "metadata": {
        "id": "1111bb3b-c863-451e-bbee-8a7f69ecce07"
      },
      "source": [
        "Convert a Date Column to Datetime Format"
      ]
    },
    {
      "cell_type": "markdown",
      "id": "f8669b58-86af-4db7-9fb9-8e4558108475",
      "metadata": {
        "id": "f8669b58-86af-4db7-9fb9-8e4558108475"
      },
      "source": [
        "Create a DataFrame sales with columns:\n",
        "\n",
        "Order_ID: Order number.\n",
        "Order_Date: Date as a string (e.g., \"2024-02-10\").\n",
        "Convert Order_Date into datetime format."
      ]
    },
    {
      "cell_type": "code",
      "execution_count": null,
      "id": "a2a43a38-b764-4697-b228-c76f599c2633",
      "metadata": {
        "id": "a2a43a38-b764-4697-b228-c76f599c2633",
        "outputId": "9a3d0c96-20bd-4984-8498-f36325c99755"
      },
      "outputs": [],
      "source": [
        "import pandas as pd\n",
        "\n",
        "# Create DataFrame\n",
        "sales = pd.DataFrame({\n",
        "    'Order_ID': [101, 102, 103, 104],\n",
        "    'Order_Date': ['2024-02-10', '2024-03-15', '2024-04-20', '2024-05-25']\n",
        "})\n",
        "print(sales.dtypes,\"\\n\\n\",sales,\"\\n\\n\")\n",
        "# Convert 'Order_Date' to datetime format\n",
        "sales['Order_Date'] = pd.to_datetime(sales['Order_Date'])\n",
        "\n",
        "print(sales.dtypes)\n",
        "print(\"\\n\\n\",sales,\"\\n\")"
      ]
    },
    {
      "cell_type": "markdown",
      "id": "b8fafbff-115f-4efa-8d7f-76eafeb99f5d",
      "metadata": {
        "id": "b8fafbff-115f-4efa-8d7f-76eafeb99f5d"
      },
      "source": [
        "Use the sales DataFrame.\n",
        "Extract the year and month from Order_Date and store them in new columns."
      ]
    },
    {
      "cell_type": "code",
      "execution_count": null,
      "id": "0983eee6-6166-48e3-9e44-897c26219e55",
      "metadata": {
        "id": "0983eee6-6166-48e3-9e44-897c26219e55",
        "outputId": "8b83a6b6-aecc-45b5-acd1-e47c60f8a063"
      },
      "outputs": [],
      "source": [
        "# Extract year and month\n",
        "sales['Year'] = sales['Order_Date'].dt.year\n",
        "sales['Month'] = sales['Order_Date'].dt.month\n",
        "\n",
        "print(sales)\n"
      ]
    },
    {
      "cell_type": "markdown",
      "id": "2ba34fa7-6dbc-46a9-a584-c2ef5f64575c",
      "metadata": {
        "id": "2ba34fa7-6dbc-46a9-a584-c2ef5f64575c"
      },
      "source": [
        "Create a time series DataFrame stock_prices with columns:\n",
        "\n",
        "Date: A range of dates from \"2024-01-01\" to \"2024-01-10\".\n",
        "Stock_Price: Random values representing stock prices."
      ]
    },
    {
      "cell_type": "code",
      "execution_count": null,
      "id": "e354c078-a7b2-4865-8639-5cfa375a4f26",
      "metadata": {
        "id": "e354c078-a7b2-4865-8639-5cfa375a4f26",
        "outputId": "b0a0be5a-f824-409d-baf5-3388549c7af7"
      },
      "outputs": [],
      "source": [
        "import numpy as np\n",
        "\n",
        "# Create Date Range\n",
        "date_range = pd.date_range(start=\"2024-01-01\", end=\"2024-01-05\")\n",
        "\n",
        "# Create DataFrame\n",
        "stock_prices = pd.DataFrame({\n",
        "    'Date': date_range,\n",
        "    'Stock_Price': np.random.randint(100, 200, size=len(date_range))\n",
        "})\n",
        "\n",
        "print(stock_prices)\n"
      ]
    },
    {
      "cell_type": "markdown",
      "id": "696d4c34-7da8-4ee4-a87e-f9910b488c0b",
      "metadata": {
        "id": "696d4c34-7da8-4ee4-a87e-f9910b488c0b"
      },
      "source": [
        "Use the stock_prices DataFrame.\n",
        "Resample the stock prices by month and find the average price per month."
      ]
    },
    {
      "cell_type": "code",
      "execution_count": null,
      "id": "44fea02d-b1db-4a7c-bfcf-f8680a2e561c",
      "metadata": {
        "id": "44fea02d-b1db-4a7c-bfcf-f8680a2e561c",
        "outputId": "60798c7d-4578-4743-d63b-216093e528d1"
      },
      "outputs": [],
      "source": [
        "# Ensure 'Date' is the index\n",
        "stock_prices.set_index('Date', inplace=True)\n",
        "\n",
        "# Resample by month and calculate average\n",
        "monthly_avg = stock_prices.resample('M').mean()\n",
        "\n",
        "print(monthly_avg)\n"
      ]
    },
    {
      "cell_type": "markdown",
      "id": "3cbf53cb-3036-4759-b186-a0f364f46f21",
      "metadata": {
        "id": "3cbf53cb-3036-4759-b186-a0f364f46f21"
      },
      "source": [
        "The Date column is set as the index of the stock_prices DataFrame.\n",
        "This is necessary because resampling requires a datetime index to aggregate data correctly."
      ]
    },
    {
      "cell_type": "markdown",
      "id": "9adf968b-172f-49f2-babb-26e01dad138d",
      "metadata": {
        "id": "9adf968b-172f-49f2-babb-26e01dad138d"
      },
      "source": [
        "Before Setting Index:\n",
        "         Date       Stock_Price\n",
        "0 2024-01-01      160\n",
        "1 2024-01-02      152\n",
        "2 2024-01-03      143\n",
        "3 2024-01-04      183\n",
        "4 2024-01-05      160\n"
      ]
    },
    {
      "cell_type": "markdown",
      "id": "dfcc020a-1254-48b4-971f-881a7022d7ef",
      "metadata": {
        "id": "dfcc020a-1254-48b4-971f-881a7022d7ef"
      },
      "source": [
        "After Setting Index\n",
        "            Stock_Price\n",
        "Date                    \n",
        "0 2024-01-01      160\n",
        "1 2024-01-02      152\n",
        "2 2024-01-03      143\n",
        "3 2024-01-04      183\n",
        "4 2024-01-05      160\n",
        "\n",
        "Now, Date is no longer a column but an index."
      ]
    },
    {
      "cell_type": "markdown",
      "id": "6f5b9e53-4e0b-4e4c-b7a0-5c97b4efc811",
      "metadata": {
        "id": "6f5b9e53-4e0b-4e4c-b7a0-5c97b4efc811"
      },
      "source": [
        "resample('M') groups the data by month.\n",
        ".mean() computes the average stock price for each month."
      ]
    },
    {
      "cell_type": "code",
      "execution_count": null,
      "id": "b50a98ac-baf6-4ff3-a4be-f75974029d48",
      "metadata": {
        "id": "b50a98ac-baf6-4ff3-a4be-f75974029d48",
        "outputId": "b88ea326-8679-43cb-f25e-881a6bfa0a19"
      },
      "outputs": [],
      "source": [
        "# Compute rolling average over a 3-day window\n",
        "stock_prices['Rolling_Avg'] = stock_prices['Stock_Price'].rolling(window=3).mean()\n",
        "\n",
        "print(stock_prices)\n"
      ]
    },
    {
      "cell_type": "markdown",
      "id": "329c17a3-e15d-433c-96f2-8a2218e89544",
      "metadata": {
        "id": "329c17a3-e15d-433c-96f2-8a2218e89544"
      },
      "source": [
        "Computes a rolling average of Stock_Price over a 3-day window."
      ]
    },
    {
      "cell_type": "code",
      "execution_count": 50,
      "id": "1b554c15-bf78-4aa2-af4a-636a9904656f",
      "metadata": {
        "id": "1b554c15-bf78-4aa2-af4a-636a9904656f",
        "outputId": "ba4ebf1c-02fd-4052-eeaa-0c3921167e69"
      },
      "outputs": [
        {
          "data": {
            "image/png": "[encoded data removed]",
            "text/plain": [
              "<Figure size 640x480 with 1 Axes>"
            ]
          },
          "metadata": {},
          "output_type": "display_data"
        }
      ],
      "source": [
        "import pandas as pd\n",
        "import matplotlib.pyplot as plt\n",
        "\n",
        "# Create DataFrame\n",
        "sales_data = pd.DataFrame({\n",
        "    'Month': ['Jan', 'Feb', 'Mar', 'Apr', 'May', 'Jun'],\n",
        "    'Sales': [100, 150, 130, 170, 200, 220]\n",
        "})\n",
        "\n",
        "# Plot line graph\n",
        "plt.plot(sales_data['Month'], sales_data['Sales'], marker='o', linestyle='-')\n",
        "\n",
        "# Labels & Title\n",
        "plt.xlabel(\"Month\")\n",
        "plt.ylabel(\"Sales ($)\")\n",
        "plt.title(\"Monthly Sales Trend\")\n",
        "plt.grid(True)\n",
        "\n",
        "plt.show()\n"
      ]
    },
    {
      "cell_type": "code",
      "execution_count": 51,
      "id": "d51cb320-f731-4feb-8f8c-29080ef00677",
      "metadata": {
        "id": "d51cb320-f731-4feb-8f8c-29080ef00677",
        "outputId": "8e161a1c-0c61-4d8a-ea1c-e08eb83aa865"
      },
      "outputs": [
        {
          "data": {
            "image/png": "[encoded data removed]",
            "text/plain": [
              "<Figure size 640x480 with 1 Axes>"
            ]
          },
          "metadata": {},
          "output_type": "display_data"
        }
      ],
      "source": [
        "# Create DataFrame\n",
        "product_sales = pd.DataFrame({\n",
        "    'Product': ['Laptop', 'Phone', 'Tablet', 'Headphones', 'Mouse'],\n",
        "    'Units Sold': [30, 50, 20, 40, 70]\n",
        "})\n",
        "\n",
        "# Plot bar graph\n",
        "plt.bar(product_sales['Product'], product_sales['Units Sold'], color='skyblue')\n",
        "\n",
        "# Labels & Title\n",
        "plt.xlabel(\"Product\")\n",
        "plt.ylabel(\"Units Sold\")\n",
        "plt.title(\"Sales per Product\")\n",
        "\n",
        "plt.show()\n"
      ]
    },
    {
      "cell_type": "code",
      "execution_count": 52,
      "id": "e699dd48-293f-4475-a41b-975988112884",
      "metadata": {
        "id": "e699dd48-293f-4475-a41b-975988112884",
        "outputId": "5b623d7f-80de-4853-8d1b-296c92381e17"
      },
      "outputs": [
        {
          "data": {
            "image/png": "[encoded data removed]",
            "text/plain": [
              "<Figure size 640x480 with 1 Axes>"
            ]
          },
          "metadata": {},
          "output_type": "display_data"
        }
      ],
      "source": [
        "import numpy as np\n",
        "\n",
        "# Create DataFrame\n",
        "ad_data = pd.DataFrame({\n",
        "    'Advertising Budget ($1000s)': np.random.randint(10, 100, 10),\n",
        "    'Sales ($1000s)': np.random.randint(50, 300, 10)\n",
        "})\n",
        "\n",
        "# Plot scatter plot\n",
        "plt.scatter(ad_data['Advertising Budget ($1000s)'], ad_data['Sales ($1000s)'], color='red')\n",
        "\n",
        "# Labels & Title\n",
        "plt.xlabel(\"Advertising Budget ($1000s)\")\n",
        "plt.ylabel(\"Sales ($1000s)\")\n",
        "plt.title(\"Effect of Advertising Budget on Sales\")\n",
        "plt.grid(True)\n",
        "plt.show()\n"
      ]
    },
    {
      "cell_type": "code",
      "execution_count": 53,
      "id": "c325e1c9-d08b-4d4e-a150-e324b0b7f81d",
      "metadata": {
        "id": "c325e1c9-d08b-4d4e-a150-e324b0b7f81d",
        "outputId": "c6013c9f-6470-4bb5-c4f5-6c4a7f78380d"
      },
      "outputs": [
        {
          "name": "stdout",
          "output_type": "stream",
          "text": [
            "    Scores\n",
            "0       62\n",
            "1       56\n",
            "2       62\n",
            "3       50\n",
            "4       95\n",
            "..     ...\n",
            "95      86\n",
            "96      73\n",
            "97      91\n",
            "98      80\n",
            "99      98\n",
            "\n",
            "[100 rows x 1 columns] \n",
            "\n",
            "\n"
          ]
        },
        {
          "data": {
            "image/png": "[encoded data removed]",
            "text/plain": [
              "<Figure size 640x480 with 1 Axes>"
            ]
          },
          "metadata": {},
          "output_type": "display_data"
        }
      ],
      "source": [
        "# Create DataFrame\n",
        "exam_scores = pd.DataFrame({\n",
        "    'Scores': np.random.randint(50, 100, 100)  # 100 students' scores\n",
        "})\n",
        "print(exam_scores,\"\\n\\n\")\n",
        "# Plot histogram\n",
        "plt.hist(exam_scores['Scores'], bins=10, color='purple', edgecolor='black')\n",
        "\n",
        "# Labels & Title\n",
        "plt.xlabel(\"Score Range\")\n",
        "plt.ylabel(\"Number of Students\")\n",
        "plt.title(\"Distribution of Exam Scores\")\n",
        "\n",
        "plt.show()\n"
      ]
    },
    {
      "cell_type": "code",
      "execution_count": 54,
      "id": "0570f7b9-e703-41fa-9a45-2db0c699081c",
      "metadata": {
        "id": "0570f7b9-e703-41fa-9a45-2db0c699081c",
        "outputId": "4ec10cb6-678c-4c0d-9fb6-ccffef72202b"
      },
      "outputs": [
        {
          "data": {
            "image/png": "[encoded data removed]",
            "text/plain": [
              "<Figure size 640x480 with 1 Axes>"
            ]
          },
          "metadata": {},
          "output_type": "display_data"
        }
      ],
      "source": [
        "# Create DataFrame\n",
        "market_share = pd.DataFrame({\n",
        "    'Company': ['Apple', 'Samsung', 'Google', 'OnePlus', 'Xiaomi'],\n",
        "    'Market Share (%)': [30, 25, 20, 15, 10]\n",
        "})\n",
        "\n",
        "# Plot pie chart\n",
        "plt.pie(market_share['Market Share (%)'], labels=market_share['Company'], autopct='%1.1f%%', colors=['gold', 'blue', 'green', 'red', 'gray'])\n",
        "\n",
        "# Title\n",
        "plt.title(\"Smartphone Market Share 2024\")\n",
        "\n",
        "plt.show()\n"
      ]
    },
    {
      "cell_type": "markdown",
      "id": "4630c8e3-780f-46fb-a23d-396cd8dfb0f7",
      "metadata": {
        "id": "4630c8e3-780f-46fb-a23d-396cd8dfb0f7"
      },
      "source": [
        "The autopct='%1.1f%%' parameter is used in Matplotlib's pie chart to display percentage values on the chart."
      ]
    },
    {
      "cell_type": "markdown",
      "id": "eb8595e9-4cfa-4161-b6a3-6668be64cb11",
      "metadata": {
        "id": "eb8595e9-4cfa-4161-b6a3-6668be64cb11"
      },
      "source": [
        "'%1.1f%%' means:\n",
        "\n",
        "Show one decimal place in the percentage.\n",
        "Append % to the value.\n",
        "Example: 30.2%, 25.0%, 15.8%."
      ]
    }
  ],
  "metadata": {
    "colab": {
      "provenance": []
    },
    "kernelspec": {
      "display_name": "Python 3",
      "language": "python",
      "name": "python3"
    },
    "language_info": {
      "codemirror_mode": {
        "name": "ipython",
        "version": 3
      },
      "file_extension": ".py",
      "mimetype": "text/x-python",
      "name": "python",
      "nbconvert_exporter": "python",
      "pygments_lexer": "ipython3",
      "version": "3.13.2"
    }
  },
  "nbformat": 4,
  "nbformat_minor": 5
}
