{
  "nbformat": 4,
  "nbformat_minor": 0,
  "metadata": {
    "colab": {
      "provenance": []
    },
    "kernelspec": {
      "name": "python3",
      "display_name": "Python 3"
    },
    "language_info": {
      "name": "python"
    }
  },
  "cells": [
    {
      "cell_type": "markdown",
      "source": [
        "**What is Pandas?**\n",
        "\n",
        "Pandas is an open-source data analysis and manipulation library for Python. It provides data structures and functions needed to efficiently analyze, clean, and manipulate structured data. The primary data structures in Pandas are `Series` (one-dimensional) and `DataFrame` (two-dimensional), which allow easy handling of labeled and indexed data.\n",
        "\n",
        "---\n",
        "\n",
        "**Importance of Pandas in Data Science**\n",
        "\n",
        "Pandas plays a crucial role in Data Science due to the following reasons:\n",
        "1. **Data Handling:** Provides easy-to-use data structures like `DataFrame` for organizing data.\n",
        "2. **Data Cleaning:** Offers functions for handling missing values, duplicates, and data transformations.\n",
        "3. **Data Manipulation:** Enables efficient filtering, grouping, and aggregation of large datasets.\n",
        "4. **Integration:** Works well with other libraries such as NumPy, Matplotlib, and Scikit-Learn.\n",
        "5. **Performance:** Built on NumPy, allowing fast operations on large datasets.\n",
        "\n",
        "---\n",
        "\n",
        "**Difference between Pandas and NumPy**\n",
        "\n",
        "| Feature | Pandas | NumPy |\n",
        "|---------|--------|-------|\n",
        "| Data Structure | Uses `Series` and `DataFrame` | Uses multi-dimensional arrays (`ndarray`) |\n",
        "| Data Handling | Best for labeled/tabular data | Best for numerical computations |\n",
        "| Indexing | Supports labeled indexing | Only supports positional indexing |\n",
        "| Functionality | Data manipulation, cleaning, and analysis | High-performance mathematical and statistical operations |\n",
        "| Usage | Primarily used in data science and analytics | Mainly used for numerical computing and scientific applications |\n",
        "\n",
        "---\n",
        "\n",
        "**Installing Pandas**\n",
        "\n",
        "To install Pandas, use the following command:\n",
        "```bash\n",
        "pip install pandas\n",
        "```\n",
        "\n",
        "This command will download and install the Pandas library along with its dependencies.\n",
        "\n",
        "---\n",
        "\n",
        "**Importing Pandas**\n",
        "\n",
        "Once installed, you can import Pandas in a Python script or Jupyter Notebook using:\n",
        "```python\n",
        "import pandas as pd\n",
        "```\n",
        "The alias `pd` is a commonly used shorthand that makes it easier to use Pandas functions and objects.\n",
        "\n",
        "---\n",
        "\n",
        "**Key Features of Pandas**\n",
        "\n",
        "1. **Efficient Handling of Structured Data**\n",
        "   - Pandas provides `DataFrame` and `Series` objects that allow for easy manipulation of structured data.\n",
        "   - Supports multiple file formats like CSV, Excel, SQL, and JSON.\n",
        "   - Enables fast indexing and retrieval of data.\n",
        "\n",
        "2. **Data Cleaning and Transformation**\n",
        "   - Handles missing values using functions like `fillna()`, `dropna()`.\n",
        "   - Allows transformation of data types, renaming columns, and removing duplicates.\n",
        "   - Supports advanced operations like applying custom functions to modify data.\n",
        "\n",
        "3. **Merging, Joining, and Grouping**\n",
        "   - Supports merging and joining of datasets using `merge()` and `join()`.\n",
        "   - Enables grouping and aggregation of data using `groupby()`.\n",
        "   - Provides functionalities for pivot tables and reshaping data.\n",
        "\n",
        "4. **Time Series Functionality**\n",
        "   - Handles date and time-based data efficiently.\n",
        "   - Provides functionalities for resampling, shifting, and time-based indexing.\n",
        "   - Supports operations on datetime data using `to_datetime()` and `Timedelta`.\n",
        "\n",
        "5. **Data Visualization Integration**\n",
        "   - Pandas integrates with visualization libraries like Matplotlib and Seaborn.\n",
        "   - Provides built-in plotting methods using `.plot()`.\n",
        "   - Enables quick and insightful graphical representations of data.\n",
        "\n",
        "---\n",
        "\n",
        "\n",
        "\n"
      ],
      "metadata": {
        "id": "TpO_YrYzkBDd"
      }
    },
    {
      "cell_type": "markdown",
      "source": [
        "Series (1D)\n",
        "\n",
        "A Pandas Series is a one-dimensional labeled array capable of holding any data type (integers, strings, floating point numbers, etc.).\n",
        "\n",
        "Creating a Series:"
      ],
      "metadata": {
        "id": "jMF0jYzBnGUW"
      }
    },
    {
      "cell_type": "markdown",
      "source": [
        "### **Example: Creating a Pandas Series**"
      ],
      "metadata": {
        "id": "LyLf43QzlRKu"
      }
    },
    {
      "cell_type": "code",
      "source": [
        "import numpy as np\n",
        "import pandas as pd\n",
        "\n",
        "data = [10, 20, 30, 40]\n",
        "series = pd.Series(data)\n",
        "print(series)"
      ],
      "metadata": {
        "colab": {
          "base_uri": "https://localhost:8080/"
        },
        "id": "Dw53RnqRjNX-",
        "outputId": "4146a846-4aab-4f61-a072-512c5c6e298c"
      },
      "execution_count": null,
      "outputs": [
        {
          "output_type": "stream",
          "name": "stdout",
          "text": [
            "0    10\n",
            "1    20\n",
            "2    30\n",
            "3    40\n",
            "dtype: int64\n"
          ]
        }
      ]
    },
    {
      "cell_type": "code",
      "source": [
        "\n",
        "import pandas as pd\n",
        "\n",
        "# Example 2: Series with custom index\n",
        "data2 = [1, 3, 5, 7]\n",
        "index2 = ['a', 'b', 'c', 'd']\n",
        "series2 = pd.Series(data2, index=index2)\n",
        "print(series2)\n",
        "\n",
        "# Example 3: Series from a dictionary\n",
        "data3 = {'x': 100, 'y': 200, 'z': 300}\n",
        "series3 = pd.Series(data3)\n",
        "print(series3)\n",
        "\n",
        "# Example 4: Series with a scalar value\n",
        "series4 = pd.Series(5, index=['a', 'b', 'c'])  # Value 5 repeated three times with index 'a', 'b', 'c'\n",
        "print(series4)\n",
        "\n",
        "# Example 5: Series from a NumPy array\n",
        "import numpy as np\n",
        "data5 = np.array([10.5, 20.5, 30.5])\n",
        "series5 = pd.Series(data5)\n",
        "print(series5)\n"
      ],
      "metadata": {
        "colab": {
          "base_uri": "https://localhost:8080/"
        },
        "id": "-jk7bRColoZ1",
        "outputId": "a5c38a78-02b8-4728-c2d8-5cee2d985fd6"
      },
      "execution_count": null,
      "outputs": [
        {
          "output_type": "stream",
          "name": "stdout",
          "text": [
            "a    1\n",
            "b    3\n",
            "c    5\n",
            "d    7\n",
            "dtype: int64\n",
            "x    100\n",
            "y    200\n",
            "z    300\n",
            "dtype: int64\n",
            "a    5\n",
            "b    5\n",
            "c    5\n",
            "dtype: int64\n",
            "0    10.5\n",
            "1    20.5\n",
            "2    30.5\n",
            "dtype: float64\n"
          ]
        }
      ]
    },
    {
      "cell_type": "code",
      "source": [
        "import pandas as pd\n",
        "import numpy as np\n",
        "\n",
        "# From a list\n",
        "data = [10, 20, 30, 40]\n",
        "series1 = pd.Series(data)\n",
        "\n",
        "# From a dictionary\n",
        "data_dict = {'a': 100, 'b': 200, 'c': 300}\n",
        "series2 = pd.Series(data_dict)\n",
        "print(series2)\n",
        "\n",
        "# From a NumPy array\n",
        "array = np.array([5, 10, 15, 20])\n",
        "series3 = pd.Series(array)"
      ],
      "metadata": {
        "id": "kSaYjg6AnTRu",
        "colab": {
          "base_uri": "https://localhost:8080/"
        },
        "outputId": "d5ee6a21-55ee-4d79-e717-f5afa504d551"
      },
      "execution_count": null,
      "outputs": [
        {
          "output_type": "stream",
          "name": "stdout",
          "text": [
            "a    100\n",
            "b    200\n",
            "c    300\n",
            "dtype: int64\n"
          ]
        }
      ]
    },
    {
      "cell_type": "code",
      "source": [
        "print(series1[0])  # Accessing by index\n",
        "print(series2['b'])  # Accessing by label"
      ],
      "metadata": {
        "colab": {
          "base_uri": "https://localhost:8080/"
        },
        "id": "soQBBF5jnhF1",
        "outputId": "8027d931-7989-45e2-c1ae-28b7bdc3063e"
      },
      "execution_count": null,
      "outputs": [
        {
          "output_type": "stream",
          "name": "stdout",
          "text": [
            "10\n",
            "200\n"
          ]
        }
      ]
    },
    {
      "cell_type": "code",
      "source": [
        "series1 += 10\n",
        "print(series1)  # Element-wise addition\n",
        "print(series1.mean())  # Statistical operations"
      ],
      "metadata": {
        "colab": {
          "base_uri": "https://localhost:8080/"
        },
        "id": "negCtrEpnnX9",
        "outputId": "bbb65a86-15c3-410e-cd8f-b4af58f17b5c"
      },
      "execution_count": null,
      "outputs": [
        {
          "output_type": "stream",
          "name": "stdout",
          "text": [
            "0    20\n",
            "1    30\n",
            "2    40\n",
            "3    50\n",
            "dtype: int64\n",
            "35.0\n"
          ]
        }
      ]
    },
    {
      "cell_type": "code",
      "source": [
        "print(series1[series1 > 20])"
      ],
      "metadata": {
        "colab": {
          "base_uri": "https://localhost:8080/"
        },
        "id": "cRbU_spxnqDW",
        "outputId": "0ba1a46d-b102-430d-ad40-c508a82e96d3"
      },
      "execution_count": null,
      "outputs": [
        {
          "output_type": "stream",
          "name": "stdout",
          "text": [
            "1    30\n",
            "2    40\n",
            "3    50\n",
            "dtype: int64\n"
          ]
        }
      ]
    },
    {
      "cell_type": "markdown",
      "source": [
        "A DataFrame is a two-dimensional labeled data structure with columns of potentially different types, similar to a spreadsheet or SQL table.\n",
        "\n",
        "Creating a DataFrame:"
      ],
      "metadata": {
        "id": "rIOjJdjenz0H"
      }
    },
    {
      "cell_type": "markdown",
      "source": [
        "### **Example: Creating a Pandas DataFrame**\n"
      ],
      "metadata": {
        "id": "z9acRdmFlUNU"
      }
    },
    {
      "cell_type": "code",
      "source": [
        "\n",
        "data = {\n",
        "    'Name': ['Hero', 'Bob', 'Charlie'],\n",
        "    'Age': [19, 30 , 35],\n",
        "    'City': ['Karachi', 'Los Angeles', 'Chicago']\n",
        "}\n",
        "df = pd.DataFrame(data)\n",
        "print(df,\"\\n\")#df\n",
        "print(type(df),\"\\n\")#dataframe\n",
        "print(data,\"\\n\")\n",
        "print(type(data),\"\\n\")#dict\n",
        "print(data['Name'],\"\\n\")\n",
        "print(type(data['Name']),\"\\n\")#list"
      ],
      "metadata": {
        "colab": {
          "base_uri": "https://localhost:8080/"
        },
        "id": "9JvzGC0xliaF",
        "outputId": "8c9d201e-f66a-4b39-e6fa-e28b8f569733"
      },
      "execution_count": null,
      "outputs": [
        {
          "output_type": "stream",
          "name": "stdout",
          "text": [
            "      Name  Age         City\n",
            "0     Hero   19      Karachi\n",
            "1      Bob   30  Los Angeles\n",
            "2  Charlie   35      Chicago \n",
            "\n",
            "<class 'pandas.core.frame.DataFrame'> \n",
            "\n",
            "{'Name': ['Hero', 'Bob', 'Charlie'], 'Age': [19, 30, 35], 'City': ['Karachi', 'Los Angeles', 'Chicago']} \n",
            "\n",
            "<class 'dict'> \n",
            "\n",
            "['Hero', 'Bob', 'Charlie'] \n",
            "\n",
            "<class 'list'> \n",
            "\n"
          ]
        }
      ]
    },
    {
      "cell_type": "code",
      "source": [
        "\n",
        "import pandas as pd\n",
        "import numpy as np\n",
        "# Example 6: DataFrame from a list of lists\n",
        "data6 = [[1, 'A'], [2, 'B'], [3, 'C']]\n",
        "columns6 = ['Number', 'Letter']\n",
        "df6 = pd.DataFrame(data6, columns=columns6)\n",
        "print(\"\\n\",df6)\n",
        "\n",
        "# Example 7: DataFrame with specific data types\n",
        "data7 = {'col1': [1, 2, 3], 'col2': [4.5, 5.5, 6.5], 'col3': ['A', 'B', 'C']}\n",
        "df7 = pd.DataFrame(data7, dtype=object) #Specify data type for columns.\n",
        "print(\"\\n\",df7)\n",
        "print(df7.dtypes)\n",
        "\n",
        "\n",
        "# Example 8: DataFrame from a list of dictionaries\n",
        "data8 = [{'a': 1, 'b': 2}, {'a': 3, 'b': 4}, {'a': 5, 'b': 6}]\n",
        "df8 = pd.DataFrame(data8)\n",
        "print(\"\\n\",df8)\n",
        "print(data8[0])\n",
        "\n",
        "# Example 9: DataFrame with index specified\n",
        "data9 = {'col1': [10, 20, 30], 'col2': [40, 50, 60]}\n",
        "index9 = ['row1', 'row2', 'row3']\n",
        "df9 = pd.DataFrame(data9, index=index9)\n",
        "print(\"\\n\",df9,\"\\n\",)\n",
        "\n",
        "# Example 10: DataFrame from a NumPy array\n",
        "data10 = np.array([ [1.1, 2],\n",
        "                    [3.2, 4],\n",
        "                    [5.6, 6]])\n",
        "columns10 = ['X', 'Y']\n",
        "df10 = pd.DataFrame(data10, columns=columns10)\n",
        "print(df10,\"\\n\")\n",
        "print(df10['Y'][:])\n"
      ],
      "metadata": {
        "colab": {
          "base_uri": "https://localhost:8080/"
        },
        "id": "HgAI7lmOmFyn",
        "outputId": "c849da09-4124-49e6-f9e7-8dfcbd14f27c"
      },
      "execution_count": null,
      "outputs": [
        {
          "output_type": "stream",
          "name": "stdout",
          "text": [
            "\n",
            "    Number Letter\n",
            "0       1      A\n",
            "1       2      B\n",
            "2       3      C\n",
            "\n",
            "   col1 col2 col3\n",
            "0    1  4.5    A\n",
            "1    2  5.5    B\n",
            "2    3  6.5    C\n",
            "col1    object\n",
            "col2    object\n",
            "col3    object\n",
            "dtype: object\n",
            "\n",
            "    a  b\n",
            "0  1  2\n",
            "1  3  4\n",
            "2  5  6\n",
            "{'a': 1, 'b': 2}\n",
            "\n",
            "       col1  col2\n",
            "row1    10    40\n",
            "row2    20    50\n",
            "row3    30    60 \n",
            "\n",
            "     X    Y\n",
            "0  1.1  2.0\n",
            "1  3.2  4.0\n",
            "2  5.6  6.0 \n",
            "\n",
            "0    2.0\n",
            "1    4.0\n",
            "2    6.0\n",
            "Name: Y, dtype: float64\n"
          ]
        }
      ]
    },
    {
      "cell_type": "code",
      "source": [
        "# From a dictionary of lists\n",
        "data = {'Name': ['Alice', 'Bob', 'Charlie'], 'Age': [25, 30, 35],'City': ['New York', 'Los Angeles', 'Chicago']}\n",
        "df1 = pd.DataFrame(data)\n",
        "print(df1)\n",
        "\n",
        "# From a dictionary of Series\n",
        "df2 = pd.DataFrame({'A': pd.Series([1, 2, 3]), 'B': pd.Series([4, 5, 6])})\n",
        "print(df2)\n",
        "\n",
        "# From a NumPy array\n",
        "array_data = np.array([[1, 2, 3], [4, 5, 6]])\n",
        "df3 = pd.DataFrame(array_data, columns=['X', 'Y', 'Z'])\n",
        "print(df3['X'][1])\n",
        "print(df3)"
      ],
      "metadata": {
        "colab": {
          "base_uri": "https://localhost:8080/"
        },
        "id": "NQIISsFhoBU_",
        "outputId": "5f3bcab4-a394-4bd1-9230-c145e4e01b96"
      },
      "execution_count": null,
      "outputs": [
        {
          "output_type": "stream",
          "name": "stdout",
          "text": [
            "      Name  Age         City\n",
            "0    Alice   25     New York\n",
            "1      Bob   30  Los Angeles\n",
            "2  Charlie   35      Chicago\n",
            "   A  B\n",
            "0  1  4\n",
            "1  2  5\n",
            "2  3  6\n",
            "4\n",
            "   X  Y  Z\n",
            "0  1  2  3\n",
            "1  4  5  6\n"
          ]
        }
      ]
    },
    {
      "cell_type": "markdown",
      "source": [
        "###Reading from a CSV/Excel file###"
      ],
      "metadata": {
        "id": "rwdy4UHMoHzF"
      }
    },
    {
      "cell_type": "code",
      "source": [
        "!pip install openpyxl==3.1.2"
      ],
      "metadata": {
        "colab": {
          "base_uri": "https://localhost:8080/"
        },
        "id": "_QESGhRqv0U0",
        "outputId": "f667d2ad-1e80-4783-e5f4-1ab814e3a3d3"
      },
      "execution_count": null,
      "outputs": [
        {
          "output_type": "stream",
          "name": "stdout",
          "text": [
            "Collecting openpyxl==3.1.2\n",
            "  Downloading openpyxl-3.1.2-py2.py3-none-any.whl.metadata (2.5 kB)\n",
            "Requirement already satisfied: et-xmlfile in /usr/local/lib/python3.11/dist-packages (from openpyxl==3.1.2) (2.0.0)\n",
            "Downloading openpyxl-3.1.2-py2.py3-none-any.whl (249 kB)\n",
            "\u001b[2K   \u001b[90m━━━━━━━━━━━━━━━━━━━━━━━━━━━━━━━━━━━━━━━━\u001b[0m \u001b[32m250.0/250.0 kB\u001b[0m \u001b[31m3.8 MB/s\u001b[0m eta \u001b[36m0:00:00\u001b[0m\n",
            "\u001b[?25hInstalling collected packages: openpyxl\n",
            "  Attempting uninstall: openpyxl\n",
            "    Found existing installation: openpyxl 3.1.5\n",
            "    Uninstalling openpyxl-3.1.5:\n",
            "      Successfully uninstalled openpyxl-3.1.5\n",
            "Successfully installed openpyxl-3.1.2\n"
          ]
        }
      ]
    },
    {
      "cell_type": "code",
      "source": [
        "from google.colab import drive\n",
        "drive.mount('/content/drive')"
      ],
      "metadata": {
        "colab": {
          "base_uri": "https://localhost:8080/"
        },
        "id": "J3lvt1qNw7e-",
        "outputId": "d60a79f6-dd6d-4179-d233-6111a16c1db3"
      },
      "execution_count": null,
      "outputs": [
        {
          "output_type": "stream",
          "name": "stdout",
          "text": [
            "Mounted at /content/drive\n"
          ]
        }
      ]
    },
    {
      "cell_type": "code",
      "source": [
        "import numpy as np\n",
        "import openpyxl\n",
        "import pandas as pd"
      ],
      "metadata": {
        "id": "7-ocRTaew_1t"
      },
      "execution_count": null,
      "outputs": []
    },
    {
      "cell_type": "code",
      "source": [
        "df1 = pd.read_csv(\"/content/drive/MyDrive/Colab Notebooks/SaleData.xlsx\")  # Reading Excel file\n",
        "#df = pd.read_excel(\"/content/drive/My Drive/Colab Notebooks/Boston.csv\")  # Reading CSV file"
      ],
      "metadata": {
        "id": "oNIdUj_SoY4F",
        "colab": {
          "base_uri": "https://localhost:8080/",
          "height": 530
        },
        "outputId": "db015bcc-6091-497e-d595-d293f8c91af3"
      },
      "execution_count": null,
      "outputs": [
        {
          "output_type": "error",
          "ename": "UnicodeDecodeError",
          "evalue": "'utf-8' codec can't decode byte 0x9c in position 15: invalid start byte",
          "traceback": [
            "\u001b[0;31m---------------------------------------------------------------------------\u001b[0m",
            "\u001b[0;31mUnicodeDecodeError\u001b[0m                        Traceback (most recent call last)",
            "\u001b[0;32m<ipython-input-14-82f7dc33d31d>\u001b[0m in \u001b[0;36m<cell line: 0>\u001b[0;34m()\u001b[0m\n\u001b[0;32m----> 1\u001b[0;31m \u001b[0mdf1\u001b[0m \u001b[0;34m=\u001b[0m \u001b[0mpd\u001b[0m\u001b[0;34m.\u001b[0m\u001b[0mread_csv\u001b[0m\u001b[0;34m(\u001b[0m\u001b[0;34m\"/content/drive/MyDrive/Colab Notebooks/SaleData.xlsx\"\u001b[0m\u001b[0;34m)\u001b[0m  \u001b[0;31m# Reading Excel file\u001b[0m\u001b[0;34m\u001b[0m\u001b[0;34m\u001b[0m\u001b[0m\n\u001b[0m\u001b[1;32m      2\u001b[0m \u001b[0;31m#df = pd.read_excel(\"/content/drive/My Drive/Colab Notebooks/Boston.csv\")  # Reading CSV file\u001b[0m\u001b[0;34m\u001b[0m\u001b[0;34m\u001b[0m\u001b[0m\n",
            "\u001b[0;32m/usr/local/lib/python3.11/dist-packages/pandas/io/parsers/readers.py\u001b[0m in \u001b[0;36mread_csv\u001b[0;34m(filepath_or_buffer, sep, delimiter, header, names, index_col, usecols, dtype, engine, converters, true_values, false_values, skipinitialspace, skiprows, skipfooter, nrows, na_values, keep_default_na, na_filter, verbose, skip_blank_lines, parse_dates, infer_datetime_format, keep_date_col, date_parser, date_format, dayfirst, cache_dates, iterator, chunksize, compression, thousands, decimal, lineterminator, quotechar, quoting, doublequote, escapechar, comment, encoding, encoding_errors, dialect, on_bad_lines, delim_whitespace, low_memory, memory_map, float_precision, storage_options, dtype_backend)\u001b[0m\n\u001b[1;32m   1024\u001b[0m     \u001b[0mkwds\u001b[0m\u001b[0;34m.\u001b[0m\u001b[0mupdate\u001b[0m\u001b[0;34m(\u001b[0m\u001b[0mkwds_defaults\u001b[0m\u001b[0;34m)\u001b[0m\u001b[0;34m\u001b[0m\u001b[0;34m\u001b[0m\u001b[0m\n\u001b[1;32m   1025\u001b[0m \u001b[0;34m\u001b[0m\u001b[0m\n\u001b[0;32m-> 1026\u001b[0;31m     \u001b[0;32mreturn\u001b[0m \u001b[0m_read\u001b[0m\u001b[0;34m(\u001b[0m\u001b[0mfilepath_or_buffer\u001b[0m\u001b[0;34m,\u001b[0m \u001b[0mkwds\u001b[0m\u001b[0;34m)\u001b[0m\u001b[0;34m\u001b[0m\u001b[0;34m\u001b[0m\u001b[0m\n\u001b[0m\u001b[1;32m   1027\u001b[0m \u001b[0;34m\u001b[0m\u001b[0m\n\u001b[1;32m   1028\u001b[0m \u001b[0;34m\u001b[0m\u001b[0m\n",
            "\u001b[0;32m/usr/local/lib/python3.11/dist-packages/pandas/io/parsers/readers.py\u001b[0m in \u001b[0;36m_read\u001b[0;34m(filepath_or_buffer, kwds)\u001b[0m\n\u001b[1;32m    618\u001b[0m \u001b[0;34m\u001b[0m\u001b[0m\n\u001b[1;32m    619\u001b[0m     \u001b[0;31m# Create the parser.\u001b[0m\u001b[0;34m\u001b[0m\u001b[0;34m\u001b[0m\u001b[0m\n\u001b[0;32m--> 620\u001b[0;31m     \u001b[0mparser\u001b[0m \u001b[0;34m=\u001b[0m \u001b[0mTextFileReader\u001b[0m\u001b[0;34m(\u001b[0m\u001b[0mfilepath_or_buffer\u001b[0m\u001b[0;34m,\u001b[0m \u001b[0;34m**\u001b[0m\u001b[0mkwds\u001b[0m\u001b[0;34m)\u001b[0m\u001b[0;34m\u001b[0m\u001b[0;34m\u001b[0m\u001b[0m\n\u001b[0m\u001b[1;32m    621\u001b[0m \u001b[0;34m\u001b[0m\u001b[0m\n\u001b[1;32m    622\u001b[0m     \u001b[0;32mif\u001b[0m \u001b[0mchunksize\u001b[0m \u001b[0;32mor\u001b[0m \u001b[0miterator\u001b[0m\u001b[0;34m:\u001b[0m\u001b[0;34m\u001b[0m\u001b[0;34m\u001b[0m\u001b[0m\n",
            "\u001b[0;32m/usr/local/lib/python3.11/dist-packages/pandas/io/parsers/readers.py\u001b[0m in \u001b[0;36m__init__\u001b[0;34m(self, f, engine, **kwds)\u001b[0m\n\u001b[1;32m   1618\u001b[0m \u001b[0;34m\u001b[0m\u001b[0m\n\u001b[1;32m   1619\u001b[0m         \u001b[0mself\u001b[0m\u001b[0;34m.\u001b[0m\u001b[0mhandles\u001b[0m\u001b[0;34m:\u001b[0m \u001b[0mIOHandles\u001b[0m \u001b[0;34m|\u001b[0m \u001b[0;32mNone\u001b[0m \u001b[0;34m=\u001b[0m \u001b[0;32mNone\u001b[0m\u001b[0;34m\u001b[0m\u001b[0;34m\u001b[0m\u001b[0m\n\u001b[0;32m-> 1620\u001b[0;31m         \u001b[0mself\u001b[0m\u001b[0;34m.\u001b[0m\u001b[0m_engine\u001b[0m \u001b[0;34m=\u001b[0m \u001b[0mself\u001b[0m\u001b[0;34m.\u001b[0m\u001b[0m_make_engine\u001b[0m\u001b[0;34m(\u001b[0m\u001b[0mf\u001b[0m\u001b[0;34m,\u001b[0m \u001b[0mself\u001b[0m\u001b[0;34m.\u001b[0m\u001b[0mengine\u001b[0m\u001b[0;34m)\u001b[0m\u001b[0;34m\u001b[0m\u001b[0;34m\u001b[0m\u001b[0m\n\u001b[0m\u001b[1;32m   1621\u001b[0m \u001b[0;34m\u001b[0m\u001b[0m\n\u001b[1;32m   1622\u001b[0m     \u001b[0;32mdef\u001b[0m \u001b[0mclose\u001b[0m\u001b[0;34m(\u001b[0m\u001b[0mself\u001b[0m\u001b[0;34m)\u001b[0m \u001b[0;34m->\u001b[0m \u001b[0;32mNone\u001b[0m\u001b[0;34m:\u001b[0m\u001b[0;34m\u001b[0m\u001b[0;34m\u001b[0m\u001b[0m\n",
            "\u001b[0;32m/usr/local/lib/python3.11/dist-packages/pandas/io/parsers/readers.py\u001b[0m in \u001b[0;36m_make_engine\u001b[0;34m(self, f, engine)\u001b[0m\n\u001b[1;32m   1896\u001b[0m \u001b[0;34m\u001b[0m\u001b[0m\n\u001b[1;32m   1897\u001b[0m         \u001b[0;32mtry\u001b[0m\u001b[0;34m:\u001b[0m\u001b[0;34m\u001b[0m\u001b[0;34m\u001b[0m\u001b[0m\n\u001b[0;32m-> 1898\u001b[0;31m             \u001b[0;32mreturn\u001b[0m \u001b[0mmapping\u001b[0m\u001b[0;34m[\u001b[0m\u001b[0mengine\u001b[0m\u001b[0;34m]\u001b[0m\u001b[0;34m(\u001b[0m\u001b[0mf\u001b[0m\u001b[0;34m,\u001b[0m \u001b[0;34m**\u001b[0m\u001b[0mself\u001b[0m\u001b[0;34m.\u001b[0m\u001b[0moptions\u001b[0m\u001b[0;34m)\u001b[0m\u001b[0;34m\u001b[0m\u001b[0;34m\u001b[0m\u001b[0m\n\u001b[0m\u001b[1;32m   1899\u001b[0m         \u001b[0;32mexcept\u001b[0m \u001b[0mException\u001b[0m\u001b[0;34m:\u001b[0m\u001b[0;34m\u001b[0m\u001b[0;34m\u001b[0m\u001b[0m\n\u001b[1;32m   1900\u001b[0m             \u001b[0;32mif\u001b[0m \u001b[0mself\u001b[0m\u001b[0;34m.\u001b[0m\u001b[0mhandles\u001b[0m \u001b[0;32mis\u001b[0m \u001b[0;32mnot\u001b[0m \u001b[0;32mNone\u001b[0m\u001b[0;34m:\u001b[0m\u001b[0;34m\u001b[0m\u001b[0;34m\u001b[0m\u001b[0m\n",
            "\u001b[0;32m/usr/local/lib/python3.11/dist-packages/pandas/io/parsers/c_parser_wrapper.py\u001b[0m in \u001b[0;36m__init__\u001b[0;34m(self, src, **kwds)\u001b[0m\n\u001b[1;32m     91\u001b[0m             \u001b[0;31m# Fail here loudly instead of in cython after reading\u001b[0m\u001b[0;34m\u001b[0m\u001b[0;34m\u001b[0m\u001b[0m\n\u001b[1;32m     92\u001b[0m             \u001b[0mimport_optional_dependency\u001b[0m\u001b[0;34m(\u001b[0m\u001b[0;34m\"pyarrow\"\u001b[0m\u001b[0;34m)\u001b[0m\u001b[0;34m\u001b[0m\u001b[0;34m\u001b[0m\u001b[0m\n\u001b[0;32m---> 93\u001b[0;31m         \u001b[0mself\u001b[0m\u001b[0;34m.\u001b[0m\u001b[0m_reader\u001b[0m \u001b[0;34m=\u001b[0m \u001b[0mparsers\u001b[0m\u001b[0;34m.\u001b[0m\u001b[0mTextReader\u001b[0m\u001b[0;34m(\u001b[0m\u001b[0msrc\u001b[0m\u001b[0;34m,\u001b[0m \u001b[0;34m**\u001b[0m\u001b[0mkwds\u001b[0m\u001b[0;34m)\u001b[0m\u001b[0;34m\u001b[0m\u001b[0;34m\u001b[0m\u001b[0m\n\u001b[0m\u001b[1;32m     94\u001b[0m \u001b[0;34m\u001b[0m\u001b[0m\n\u001b[1;32m     95\u001b[0m         \u001b[0mself\u001b[0m\u001b[0;34m.\u001b[0m\u001b[0munnamed_cols\u001b[0m \u001b[0;34m=\u001b[0m \u001b[0mself\u001b[0m\u001b[0;34m.\u001b[0m\u001b[0m_reader\u001b[0m\u001b[0;34m.\u001b[0m\u001b[0munnamed_cols\u001b[0m\u001b[0;34m\u001b[0m\u001b[0;34m\u001b[0m\u001b[0m\n",
            "\u001b[0;32mparsers.pyx\u001b[0m in \u001b[0;36mpandas._libs.parsers.TextReader.__cinit__\u001b[0;34m()\u001b[0m\n",
            "\u001b[0;32mparsers.pyx\u001b[0m in \u001b[0;36mpandas._libs.parsers.TextReader._get_header\u001b[0;34m()\u001b[0m\n",
            "\u001b[0;32mparsers.pyx\u001b[0m in \u001b[0;36mpandas._libs.parsers.TextReader._tokenize_rows\u001b[0;34m()\u001b[0m\n",
            "\u001b[0;32mparsers.pyx\u001b[0m in \u001b[0;36mpandas._libs.parsers.TextReader._check_tokenize_status\u001b[0;34m()\u001b[0m\n",
            "\u001b[0;32mparsers.pyx\u001b[0m in \u001b[0;36mpandas._libs.parsers.raise_parser_error\u001b[0;34m()\u001b[0m\n",
            "\u001b[0;31mUnicodeDecodeError\u001b[0m: 'utf-8' codec can't decode byte 0x9c in position 15: invalid start byte"
          ]
        }
      ]
    },
    {
      "cell_type": "markdown",
      "source": [
        "### Understanding DataFrame Structure: ###"
      ],
      "metadata": {
        "id": "Phr2qBHvoh2d"
      }
    },
    {
      "cell_type": "code",
      "source": [
        "#print(df.head())  # First five rows\n",
        "#print(df.tail())  # Last five rows\n",
        "#print(df.info())  # Summary of the dataset\n",
        "#print(df.describe())  # Statistical summary\n",
        "#print(df.shape)  # Number of rows and columns\n",
        "#print(df.columns)  # Column names\n",
        "#print(df.index)  # Row indices\n",
        "print(df.dtypes)  # Data types of each column"
      ],
      "metadata": {
        "colab": {
          "base_uri": "https://localhost:8080/"
        },
        "id": "DijL2vdgogaO",
        "outputId": "e82bf818-966c-4805-a9eb-9e94e77a66ae"
      },
      "execution_count": null,
      "outputs": [
        {
          "output_type": "stream",
          "name": "stdout",
          "text": [
            "Name    object\n",
            "Age      int64\n",
            "City    object\n",
            "dtype: object\n"
          ]
        }
      ]
    },
    {
      "cell_type": "markdown",
      "source": [
        "###Accessing Data in a DataFrame:###"
      ],
      "metadata": {
        "id": "p4jayE3WoyR1"
      }
    },
    {
      "cell_type": "code",
      "source": [
        "# Accessing a single column\n",
        "#df['column_name']\n",
        "\n",
        "# Accessing multiple columns\n",
        "#df[['col1', 'col2']]\n",
        "\n",
        "# Accessing rows using label-based indexing (loc)\n",
        "print(df.loc[0],\"\\n\")  # First row\n",
        "print(\"\\n\",df.loc[:, ['Name', 'Age']],\"\\n\")  # All rows, specific columns\n",
        "\n",
        "# Accessing rows using position-based indexing (iloc)\n",
        "print(df.iloc[0],\"\\n\")  # First row\n",
        "print(df.iloc[:,1],\"\\n\")  # All rows, second column"
      ],
      "metadata": {
        "id": "gGJpcIECo98t",
        "colab": {
          "base_uri": "https://localhost:8080/"
        },
        "outputId": "8e0d477e-aebe-4e9b-f42d-4168598536bc"
      },
      "execution_count": null,
      "outputs": [
        {
          "output_type": "stream",
          "name": "stdout",
          "text": [
            "Name       Hero\n",
            "Age          19\n",
            "City    Karachi\n",
            "Name: 0, dtype: object \n",
            "\n",
            "\n",
            "       Name  Age\n",
            "0     Hero   19\n",
            "1      Bob   30\n",
            "2  Charlie   35 \n",
            "\n",
            "Name       Hero\n",
            "Age          19\n",
            "City    Karachi\n",
            "Name: 0, dtype: object \n",
            "\n",
            "0    19\n",
            "1    30\n",
            "2    35\n",
            "Name: Age, dtype: int64 \n",
            "\n"
          ]
        }
      ]
    },
    {
      "cell_type": "markdown",
      "source": [
        "##Exercises (Basic)##\n",
        "\n",
        "1. Create a Pandas Series with your five favorite numbers.\n",
        "\n",
        "2. Create a DataFrame with columns Name, Age, and Salary for 5 people.\n",
        "\n",
        "3. Convert a dictionary to a Pandas DataFrame and print its shape.\n",
        "\n",
        "4. Import a CSV file into a DataFrame and display the first five rows.\n",
        "\n",
        "5. Create a DataFrame from a list of dictionaries."
      ],
      "metadata": {
        "id": "5A62WMdIpSSG"
      }
    },
    {
      "cell_type": "markdown",
      "source": [
        "##Exercises(Advanced)###\n",
        "1. Create a Series with country names as indices and their capitals as values.\n",
        "2. Convert a NumPy array into a DataFrame.\n",
        "3. Retrieve a specific column from a DataFrame.\n",
        "4. Retrieve the first three rows of a DataFrame.\n",
        "5. Modify a specific row's values in a DataFrame."
      ],
      "metadata": {
        "id": "i88nkatdpi1t"
      }
    }
  ]
}