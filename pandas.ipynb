{
 "cells": [
  {
   "cell_type": "markdown",
   "metadata": {},
   "source": [
    "# INTRO TO PANDAS"
   ]
  },
  {
   "cell_type": "markdown",
   "metadata": {
    "vscode": {
     "languageId": "plaintext"
    }
   },
   "source": [
    "## Exercises (Basic)\n",
    "\n",
    "1. Create a Pandas Series with your five favorite numbers.\n",
    "\n",
    "2. Create a DataFrame with columns Name, Age, and Salary for 5 people.\n",
    "\n",
    "3. Convert a dictionary to a Pandas DataFrame and print its shape.\n",
    "\n",
    "4. Import a CSV file into a DataFrame and display the first five rows.\n",
    "\n",
    "5. Create a DataFrame from a list of dictionaries.\n"
   ]
  },
  {
   "cell_type": "code",
   "execution_count": 3,
   "metadata": {},
   "outputs": [
    {
     "data": {
      "text/plain": [
       "0    1\n",
       "1    2\n",
       "2    3\n",
       "3    4\n",
       "4    5\n",
       "dtype: int64"
      ]
     },
     "execution_count": 3,
     "metadata": {},
     "output_type": "execute_result"
    }
   ],
   "source": [
    "#Q1\n",
    "import pandas as pd\n",
    "import numpy as np\n",
    "df = pd.Series([1,2,3,4,5])\n",
    "df"
   ]
  },
  {
   "cell_type": "code",
   "execution_count": null,
   "metadata": {},
   "outputs": [
    {
     "name": "stdout",
     "output_type": "stream",
     "text": [
      "      Name  Salary  Age\n",
      "0    Ahmed   10000   20\n",
      "1     Saad    3000   19\n",
      "2     Ayan   30000   19\n",
      "3   Fuzail       0   20\n",
      "4  Mughees       0   19\n",
      "(5, 3)\n"
     ]
    }
   ],
   "source": [
    "#Q2\n",
    "dict = {\n",
    "    'Name' : [\"Ahmed\",\"Saad\",\"Ayan\",\"Fuzail\",\"Mughees\"],\n",
    "    'Salary' : [10000,3000,30000,0,0],\n",
    "    'Age' : [20,19,19,20,19]\n",
    "}\n",
    "\n",
    "df2 = pd.DataFrame(dict)\n",
    "print(df2)\n",
    "#Q3\n",
    "print(df2.shape)"
   ]
  },
  {
   "cell_type": "code",
   "execution_count": 13,
   "metadata": {},
   "outputs": [
    {
     "data": {
      "text/html": [
       "<div>\n",
       "<style scoped>\n",
       "    .dataframe tbody tr th:only-of-type {\n",
       "        vertical-align: middle;\n",
       "    }\n",
       "\n",
       "    .dataframe tbody tr th {\n",
       "        vertical-align: top;\n",
       "    }\n",
       "\n",
       "    .dataframe thead th {\n",
       "        text-align: right;\n",
       "    }\n",
       "</style>\n",
       "<table border=\"1\" class=\"dataframe\">\n",
       "  <thead>\n",
       "    <tr style=\"text-align: right;\">\n",
       "      <th></th>\n",
       "      <th>OrderDate</th>\n",
       "      <th>Region</th>\n",
       "      <th>Manager</th>\n",
       "      <th>SalesMan</th>\n",
       "      <th>Item</th>\n",
       "      <th>Units</th>\n",
       "      <th>Unit_price</th>\n",
       "      <th>Sale_amt</th>\n",
       "    </tr>\n",
       "  </thead>\n",
       "  <tbody>\n",
       "    <tr>\n",
       "      <th>0</th>\n",
       "      <td>2018-01-06</td>\n",
       "      <td>East</td>\n",
       "      <td>Martha</td>\n",
       "      <td>Alexander</td>\n",
       "      <td>Television</td>\n",
       "      <td>95.0</td>\n",
       "      <td>1198.0</td>\n",
       "      <td>113810.0</td>\n",
       "    </tr>\n",
       "    <tr>\n",
       "      <th>1</th>\n",
       "      <td>2018-01-23</td>\n",
       "      <td>Central</td>\n",
       "      <td>Hermann</td>\n",
       "      <td>Shelli</td>\n",
       "      <td>Home Theater</td>\n",
       "      <td>50.0</td>\n",
       "      <td>500.0</td>\n",
       "      <td>25000.0</td>\n",
       "    </tr>\n",
       "    <tr>\n",
       "      <th>2</th>\n",
       "      <td>2018-02-09</td>\n",
       "      <td>Central</td>\n",
       "      <td>Hermann</td>\n",
       "      <td>Luis</td>\n",
       "      <td>Television</td>\n",
       "      <td>36.0</td>\n",
       "      <td>1198.0</td>\n",
       "      <td>43128.0</td>\n",
       "    </tr>\n",
       "    <tr>\n",
       "      <th>3</th>\n",
       "      <td>2018-02-26</td>\n",
       "      <td>Central</td>\n",
       "      <td>Timothy</td>\n",
       "      <td>David</td>\n",
       "      <td>Cell Phone</td>\n",
       "      <td>27.0</td>\n",
       "      <td>225.0</td>\n",
       "      <td>6075.0</td>\n",
       "    </tr>\n",
       "    <tr>\n",
       "      <th>4</th>\n",
       "      <td>2018-03-15</td>\n",
       "      <td>West</td>\n",
       "      <td>Timothy</td>\n",
       "      <td>Stephen</td>\n",
       "      <td>Television</td>\n",
       "      <td>56.0</td>\n",
       "      <td>1198.0</td>\n",
       "      <td>67088.0</td>\n",
       "    </tr>\n",
       "  </tbody>\n",
       "</table>\n",
       "</div>"
      ],
      "text/plain": [
       "   OrderDate   Region  Manager   SalesMan          Item  Units  Unit_price  \\\n",
       "0 2018-01-06     East   Martha  Alexander    Television   95.0      1198.0   \n",
       "1 2018-01-23  Central  Hermann     Shelli  Home Theater   50.0       500.0   \n",
       "2 2018-02-09  Central  Hermann       Luis    Television   36.0      1198.0   \n",
       "3 2018-02-26  Central  Timothy      David    Cell Phone   27.0       225.0   \n",
       "4 2018-03-15     West  Timothy    Stephen    Television   56.0      1198.0   \n",
       "\n",
       "   Sale_amt  \n",
       "0  113810.0  \n",
       "1   25000.0  \n",
       "2   43128.0  \n",
       "3    6075.0  \n",
       "4   67088.0  "
      ]
     },
     "execution_count": 13,
     "metadata": {},
     "output_type": "execute_result"
    }
   ],
   "source": [
    "#Q4\n",
    "df3 = pd.read_excel('SaleData.xlsx')\n",
    "df3.head()"
   ]
  },
  {
   "cell_type": "code",
   "execution_count": 18,
   "metadata": {},
   "outputs": [
    {
     "name": "stdout",
     "output_type": "stream",
     "text": [
      "      Name  Salary  Age\n",
      "0    Ahmed   10000   20\n",
      "1     Saad    3000   19\n",
      "2     Ayan   30000   19\n",
      "3   Fuzail       0   20\n",
      "4  Mughees       0   19\n"
     ]
    }
   ],
   "source": [
    "import pandas as pd\n",
    "\n",
    "# Proper list of dictionaries (each dictionary representing one row)\n",
    "data = [\n",
    "    {'Name': 'Ahmed', 'Salary': 10000, 'Age': 20},\n",
    "    {'Name': 'Saad', 'Salary': 3000, 'Age': 19},\n",
    "    {'Name': 'Ayan', 'Salary': 30000, 'Age': 19},\n",
    "    {'Name': 'Fuzail', 'Salary': 0, 'Age': 20},\n",
    "    {'Name': 'Mughees', 'Salary': 0, 'Age': 19}\n",
    "]\n",
    "\n",
    "# Creating DataFrame\n",
    "df3 = pd.DataFrame(data)\n",
    "\n",
    "# Display DataFrame\n",
    "print(df3)\n"
   ]
  },
  {
   "cell_type": "markdown",
   "metadata": {},
   "source": [
    "1. Create a Series with country names as indices and their capitals as values.\n",
    "2. Convert a NumPy array into a DataFrame.\n",
    "3. Retrieve a specific column from a DataFrame.\n",
    "4. Retrieve the first three rows of a DataFrame.\n",
    "5. Modify a specific row's values in a DataFrame."
   ]
  },
  {
   "cell_type": "code",
   "execution_count": null,
   "metadata": {},
   "outputs": [
    {
     "name": "stdout",
     "output_type": "stream",
     "text": [
      "PAK        Isl\n",
      "IND      Delhi\n",
      "USA        NYC\n",
      "AFG      Kabul\n",
      "CAN    Toronto\n",
      "dtype: object\n"
     ]
    }
   ],
   "source": [
    "#Q1\n",
    "list = [\"Isl\",\"Delhi\",\"NYC\",\"Kabul\",\"Toronto\"]\n",
    "Index = [\"PAK\",\"IND\",\"USA\",\"AFG\",\"CAN\"]\n",
    "\n",
    "df = pd.Series(list, index = Index)\n",
    "print(df)"
   ]
  },
  {
   "cell_type": "code",
   "execution_count": null,
   "metadata": {},
   "outputs": [
    {
     "name": "stdout",
     "output_type": "stream",
     "text": [
      "   0\n",
      "0  1\n",
      "1  2\n",
      "2  4\n",
      "3  5\n",
      "4  8\n",
      "5  3\n",
      "6  2\n",
      "7  1\n"
     ]
    }
   ],
   "source": [
    "#Q2\n",
    "arr = np.array([1,2,4,5,8,3,2,1])\n",
    "df2 = pd.DataFrame(arr)\n",
    "print(df2)"
   ]
  },
  {
   "cell_type": "code",
   "execution_count": null,
   "metadata": {},
   "outputs": [
    {
     "name": "stdout",
     "output_type": "stream",
     "text": [
      "Index(['Name', 'Age', 'City'], dtype='object')\n"
     ]
    }
   ],
   "source": [
    "#Q3\n",
    "data = {'Name': ['Alice', 'Bob', 'Charlie'], 'Age': [25, 30, 35],'City': ['New York', 'Los Angeles', 'Chicago']}\n",
    "df3 = pd.DataFrame(data)\n",
    "print(df3.columns)\n"
   ]
  },
  {
   "cell_type": "code",
   "execution_count": null,
   "metadata": {},
   "outputs": [
    {
     "name": "stdout",
     "output_type": "stream",
     "text": [
      "      Name  Age         City\n",
      "0    Alice   25     New York\n",
      "1      Bob   30  Los Angeles\n",
      "2  Charlie   35      Chicago\n"
     ]
    }
   ],
   "source": [
    "#Q4\n",
    "print(df3.iloc[0:])"
   ]
  },
  {
   "cell_type": "code",
   "execution_count": 20,
   "metadata": {},
   "outputs": [
    {
     "name": "stdout",
     "output_type": "stream",
     "text": [
      "      Name  Age           City\n",
      "0    Alice   25       New York\n",
      "1      Bob   32  San Francisco\n",
      "2  Charlie   35        Chicago\n"
     ]
    }
   ],
   "source": [
    "#Q5\n",
    "import pandas as pd\n",
    "\n",
    "# Create a sample DataFrame\n",
    "data = {'Name': ['Alice', 'Bob', 'Charlie'],\n",
    "        'Age': [25, 30, 35],\n",
    "        'City': ['New York', 'Los Angeles', 'Chicago']}\n",
    "\n",
    "df = pd.DataFrame(data)\n",
    "\n",
    "# Modify a specific row (e.g., update Bob's age and city)\n",
    "df.loc[1, 'Age'] = 32  # Updating a single column\n",
    "df.loc[1, 'City'] = 'San Francisco'  # Updating another column\n",
    "\n",
    "# Alternatively, modify the entire row\n",
    "df.loc[1] = ['Bob', 32, 'San Francisco']\n",
    "\n",
    "# Display the updated DataFrame\n",
    "print(df)\n"
   ]
  }
 ],
 "metadata": {
  "kernelspec": {
   "display_name": "Python 3",
   "language": "python",
   "name": "python3"
  },
  "language_info": {
   "codemirror_mode": {
    "name": "ipython",
    "version": 3
   },
   "file_extension": ".py",
   "mimetype": "text/x-python",
   "name": "python",
   "nbconvert_exporter": "python",
   "pygments_lexer": "ipython3",
   "version": "3.13.2"
  }
 },
 "nbformat": 4,
 "nbformat_minor": 2
}
